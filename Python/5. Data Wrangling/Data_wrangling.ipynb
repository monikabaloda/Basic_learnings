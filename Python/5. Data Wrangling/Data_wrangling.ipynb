{
  "nbformat": 4,
  "nbformat_minor": 0,
  "metadata": {
    "kernelspec": {
      "display_name": "Python 3",
      "language": "python",
      "name": "python3"
    },
    "language_info": {
      "codemirror_mode": {
        "name": "ipython",
        "version": 3
      },
      "file_extension": ".py",
      "mimetype": "text/x-python",
      "name": "python",
      "nbconvert_exporter": "python",
      "pygments_lexer": "ipython3",
      "version": "3.8.5"
    },
    "colab": {
      "provenance": []
    }
  },
  "cells": [
    {
      "cell_type": "markdown",
      "metadata": {
        "id": "RkEoidrMBn6E"
      },
      "source": [
        "In this notebook, we do data cleaning, transformation, and then some exploratory data analysis.\n",
        "\n",
        "We use nycflights13 dataset which contains the information of all the flights that departed from New York City in 2013. "
      ]
    },
    {
      "cell_type": "code",
      "metadata": {
        "id": "hIgVzP7LCh0u"
      },
      "source": [
        "import numpy as np\n",
        "import pandas as pd\n",
        "import matplotlib.pyplot as plt"
      ],
      "execution_count": 1,
      "outputs": []
    },
    {
      "cell_type": "markdown",
      "metadata": {
        "id": "J627UfAdsymT"
      },
      "source": [
        "---\n",
        "# The `nycflights13` datasets\n",
        "\n",
        "The [Python nycflights13](https://pypi.org/project/nycflights13/) data package provides the same data as the [R nycflights13](https://cran.r-project.org/web/packages/nycflights13/index.html) package."
      ]
    },
    {
      "cell_type": "code",
      "metadata": {
        "id": "Sf5Y_sA0sdEN",
        "colab": {
          "base_uri": "https://localhost:8080/"
        },
        "outputId": "3e523c3f-1483-4faa-8b42-7aed7200532c"
      },
      "source": [
        "# install the package\n",
        "!pip install nycflights13"
      ],
      "execution_count": 2,
      "outputs": [
        {
          "output_type": "stream",
          "name": "stdout",
          "text": [
            "Looking in indexes: https://pypi.org/simple, https://us-python.pkg.dev/colab-wheels/public/simple/\n",
            "Collecting nycflights13\n",
            "  Downloading nycflights13-0.0.3.tar.gz (8.7 MB)\n",
            "\u001b[2K     \u001b[90m━━━━━━━━━━━━━━━━━━━━━━━━━━━━━━━━━━━━━━━━\u001b[0m \u001b[32m8.7/8.7 MB\u001b[0m \u001b[31m43.1 MB/s\u001b[0m eta \u001b[36m0:00:00\u001b[0m\n",
            "\u001b[?25h  Preparing metadata (setup.py) ... \u001b[?25l\u001b[?25hdone\n",
            "Requirement already satisfied: pandas>=0.24.0 in /usr/local/lib/python3.9/dist-packages (from nycflights13) (1.4.4)\n",
            "Requirement already satisfied: python-dateutil>=2.8.1 in /usr/local/lib/python3.9/dist-packages (from pandas>=0.24.0->nycflights13) (2.8.2)\n",
            "Requirement already satisfied: numpy>=1.18.5 in /usr/local/lib/python3.9/dist-packages (from pandas>=0.24.0->nycflights13) (1.22.4)\n",
            "Requirement already satisfied: pytz>=2020.1 in /usr/local/lib/python3.9/dist-packages (from pandas>=0.24.0->nycflights13) (2022.7.1)\n",
            "Requirement already satisfied: six>=1.5 in /usr/local/lib/python3.9/dist-packages (from python-dateutil>=2.8.1->pandas>=0.24.0->nycflights13) (1.16.0)\n",
            "Building wheels for collected packages: nycflights13\n",
            "  Building wheel for nycflights13 (setup.py) ... \u001b[?25l\u001b[?25hdone\n",
            "  Created wheel for nycflights13: filename=nycflights13-0.0.3-py3-none-any.whl size=8732740 sha256=c1dc9450ee310d909457329c55fb05d00c5e6294902449d1e43d31bd8d4db16e\n",
            "  Stored in directory: /root/.cache/pip/wheels/0e/b7/7b/c129c6a2717d8825caa178f3b07e260cfb12c39f95fd165ff1\n",
            "Successfully built nycflights13\n",
            "Installing collected packages: nycflights13\n",
            "Successfully installed nycflights13-0.0.3\n"
          ]
        }
      ]
    },
    {
      "cell_type": "code",
      "metadata": {
        "id": "AwRg3cbXsVQG",
        "colab": {
          "base_uri": "https://localhost:8080/",
          "height": 354
        },
        "outputId": "960d2b9f-e7cd-4d6a-a033-cd5dd06d63f7"
      },
      "source": [
        "# load the `flights` table\n",
        "from nycflights13 import flights\n",
        "print(type(flights))\n",
        "flights.head()"
      ],
      "execution_count": 3,
      "outputs": [
        {
          "output_type": "stream",
          "name": "stdout",
          "text": [
            "<class 'pandas.core.frame.DataFrame'>\n"
          ]
        },
        {
          "output_type": "execute_result",
          "data": {
            "text/plain": [
              "   year  month  day  dep_time  sched_dep_time  dep_delay  arr_time  \\\n",
              "0  2013      1    1     517.0             515        2.0     830.0   \n",
              "1  2013      1    1     533.0             529        4.0     850.0   \n",
              "2  2013      1    1     542.0             540        2.0     923.0   \n",
              "3  2013      1    1     544.0             545       -1.0    1004.0   \n",
              "4  2013      1    1     554.0             600       -6.0     812.0   \n",
              "\n",
              "   sched_arr_time  arr_delay carrier  flight tailnum origin dest  air_time  \\\n",
              "0             819       11.0      UA    1545  N14228    EWR  IAH     227.0   \n",
              "1             830       20.0      UA    1714  N24211    LGA  IAH     227.0   \n",
              "2             850       33.0      AA    1141  N619AA    JFK  MIA     160.0   \n",
              "3            1022      -18.0      B6     725  N804JB    JFK  BQN     183.0   \n",
              "4             837      -25.0      DL     461  N668DN    LGA  ATL     116.0   \n",
              "\n",
              "   distance  hour  minute             time_hour  \n",
              "0      1400     5      15  2013-01-01T10:00:00Z  \n",
              "1      1416     5      29  2013-01-01T10:00:00Z  \n",
              "2      1089     5      40  2013-01-01T10:00:00Z  \n",
              "3      1576     5      45  2013-01-01T10:00:00Z  \n",
              "4       762     6       0  2013-01-01T11:00:00Z  "
            ],
            "text/html": [
              "\n",
              "  <div id=\"df-106759fd-711f-45ad-ad6e-111547ef7f69\">\n",
              "    <div class=\"colab-df-container\">\n",
              "      <div>\n",
              "<style scoped>\n",
              "    .dataframe tbody tr th:only-of-type {\n",
              "        vertical-align: middle;\n",
              "    }\n",
              "\n",
              "    .dataframe tbody tr th {\n",
              "        vertical-align: top;\n",
              "    }\n",
              "\n",
              "    .dataframe thead th {\n",
              "        text-align: right;\n",
              "    }\n",
              "</style>\n",
              "<table border=\"1\" class=\"dataframe\">\n",
              "  <thead>\n",
              "    <tr style=\"text-align: right;\">\n",
              "      <th></th>\n",
              "      <th>year</th>\n",
              "      <th>month</th>\n",
              "      <th>day</th>\n",
              "      <th>dep_time</th>\n",
              "      <th>sched_dep_time</th>\n",
              "      <th>dep_delay</th>\n",
              "      <th>arr_time</th>\n",
              "      <th>sched_arr_time</th>\n",
              "      <th>arr_delay</th>\n",
              "      <th>carrier</th>\n",
              "      <th>flight</th>\n",
              "      <th>tailnum</th>\n",
              "      <th>origin</th>\n",
              "      <th>dest</th>\n",
              "      <th>air_time</th>\n",
              "      <th>distance</th>\n",
              "      <th>hour</th>\n",
              "      <th>minute</th>\n",
              "      <th>time_hour</th>\n",
              "    </tr>\n",
              "  </thead>\n",
              "  <tbody>\n",
              "    <tr>\n",
              "      <th>0</th>\n",
              "      <td>2013</td>\n",
              "      <td>1</td>\n",
              "      <td>1</td>\n",
              "      <td>517.0</td>\n",
              "      <td>515</td>\n",
              "      <td>2.0</td>\n",
              "      <td>830.0</td>\n",
              "      <td>819</td>\n",
              "      <td>11.0</td>\n",
              "      <td>UA</td>\n",
              "      <td>1545</td>\n",
              "      <td>N14228</td>\n",
              "      <td>EWR</td>\n",
              "      <td>IAH</td>\n",
              "      <td>227.0</td>\n",
              "      <td>1400</td>\n",
              "      <td>5</td>\n",
              "      <td>15</td>\n",
              "      <td>2013-01-01T10:00:00Z</td>\n",
              "    </tr>\n",
              "    <tr>\n",
              "      <th>1</th>\n",
              "      <td>2013</td>\n",
              "      <td>1</td>\n",
              "      <td>1</td>\n",
              "      <td>533.0</td>\n",
              "      <td>529</td>\n",
              "      <td>4.0</td>\n",
              "      <td>850.0</td>\n",
              "      <td>830</td>\n",
              "      <td>20.0</td>\n",
              "      <td>UA</td>\n",
              "      <td>1714</td>\n",
              "      <td>N24211</td>\n",
              "      <td>LGA</td>\n",
              "      <td>IAH</td>\n",
              "      <td>227.0</td>\n",
              "      <td>1416</td>\n",
              "      <td>5</td>\n",
              "      <td>29</td>\n",
              "      <td>2013-01-01T10:00:00Z</td>\n",
              "    </tr>\n",
              "    <tr>\n",
              "      <th>2</th>\n",
              "      <td>2013</td>\n",
              "      <td>1</td>\n",
              "      <td>1</td>\n",
              "      <td>542.0</td>\n",
              "      <td>540</td>\n",
              "      <td>2.0</td>\n",
              "      <td>923.0</td>\n",
              "      <td>850</td>\n",
              "      <td>33.0</td>\n",
              "      <td>AA</td>\n",
              "      <td>1141</td>\n",
              "      <td>N619AA</td>\n",
              "      <td>JFK</td>\n",
              "      <td>MIA</td>\n",
              "      <td>160.0</td>\n",
              "      <td>1089</td>\n",
              "      <td>5</td>\n",
              "      <td>40</td>\n",
              "      <td>2013-01-01T10:00:00Z</td>\n",
              "    </tr>\n",
              "    <tr>\n",
              "      <th>3</th>\n",
              "      <td>2013</td>\n",
              "      <td>1</td>\n",
              "      <td>1</td>\n",
              "      <td>544.0</td>\n",
              "      <td>545</td>\n",
              "      <td>-1.0</td>\n",
              "      <td>1004.0</td>\n",
              "      <td>1022</td>\n",
              "      <td>-18.0</td>\n",
              "      <td>B6</td>\n",
              "      <td>725</td>\n",
              "      <td>N804JB</td>\n",
              "      <td>JFK</td>\n",
              "      <td>BQN</td>\n",
              "      <td>183.0</td>\n",
              "      <td>1576</td>\n",
              "      <td>5</td>\n",
              "      <td>45</td>\n",
              "      <td>2013-01-01T10:00:00Z</td>\n",
              "    </tr>\n",
              "    <tr>\n",
              "      <th>4</th>\n",
              "      <td>2013</td>\n",
              "      <td>1</td>\n",
              "      <td>1</td>\n",
              "      <td>554.0</td>\n",
              "      <td>600</td>\n",
              "      <td>-6.0</td>\n",
              "      <td>812.0</td>\n",
              "      <td>837</td>\n",
              "      <td>-25.0</td>\n",
              "      <td>DL</td>\n",
              "      <td>461</td>\n",
              "      <td>N668DN</td>\n",
              "      <td>LGA</td>\n",
              "      <td>ATL</td>\n",
              "      <td>116.0</td>\n",
              "      <td>762</td>\n",
              "      <td>6</td>\n",
              "      <td>0</td>\n",
              "      <td>2013-01-01T11:00:00Z</td>\n",
              "    </tr>\n",
              "  </tbody>\n",
              "</table>\n",
              "</div>\n",
              "      <button class=\"colab-df-convert\" onclick=\"convertToInteractive('df-106759fd-711f-45ad-ad6e-111547ef7f69')\"\n",
              "              title=\"Convert this dataframe to an interactive table.\"\n",
              "              style=\"display:none;\">\n",
              "        \n",
              "  <svg xmlns=\"http://www.w3.org/2000/svg\" height=\"24px\"viewBox=\"0 0 24 24\"\n",
              "       width=\"24px\">\n",
              "    <path d=\"M0 0h24v24H0V0z\" fill=\"none\"/>\n",
              "    <path d=\"M18.56 5.44l.94 2.06.94-2.06 2.06-.94-2.06-.94-.94-2.06-.94 2.06-2.06.94zm-11 1L8.5 8.5l.94-2.06 2.06-.94-2.06-.94L8.5 2.5l-.94 2.06-2.06.94zm10 10l.94 2.06.94-2.06 2.06-.94-2.06-.94-.94-2.06-.94 2.06-2.06.94z\"/><path d=\"M17.41 7.96l-1.37-1.37c-.4-.4-.92-.59-1.43-.59-.52 0-1.04.2-1.43.59L10.3 9.45l-7.72 7.72c-.78.78-.78 2.05 0 2.83L4 21.41c.39.39.9.59 1.41.59.51 0 1.02-.2 1.41-.59l7.78-7.78 2.81-2.81c.8-.78.8-2.07 0-2.86zM5.41 20L4 18.59l7.72-7.72 1.47 1.35L5.41 20z\"/>\n",
              "  </svg>\n",
              "      </button>\n",
              "      \n",
              "  <style>\n",
              "    .colab-df-container {\n",
              "      display:flex;\n",
              "      flex-wrap:wrap;\n",
              "      gap: 12px;\n",
              "    }\n",
              "\n",
              "    .colab-df-convert {\n",
              "      background-color: #E8F0FE;\n",
              "      border: none;\n",
              "      border-radius: 50%;\n",
              "      cursor: pointer;\n",
              "      display: none;\n",
              "      fill: #1967D2;\n",
              "      height: 32px;\n",
              "      padding: 0 0 0 0;\n",
              "      width: 32px;\n",
              "    }\n",
              "\n",
              "    .colab-df-convert:hover {\n",
              "      background-color: #E2EBFA;\n",
              "      box-shadow: 0px 1px 2px rgba(60, 64, 67, 0.3), 0px 1px 3px 1px rgba(60, 64, 67, 0.15);\n",
              "      fill: #174EA6;\n",
              "    }\n",
              "\n",
              "    [theme=dark] .colab-df-convert {\n",
              "      background-color: #3B4455;\n",
              "      fill: #D2E3FC;\n",
              "    }\n",
              "\n",
              "    [theme=dark] .colab-df-convert:hover {\n",
              "      background-color: #434B5C;\n",
              "      box-shadow: 0px 1px 3px 1px rgba(0, 0, 0, 0.15);\n",
              "      filter: drop-shadow(0px 1px 2px rgba(0, 0, 0, 0.3));\n",
              "      fill: #FFFFFF;\n",
              "    }\n",
              "  </style>\n",
              "\n",
              "      <script>\n",
              "        const buttonEl =\n",
              "          document.querySelector('#df-106759fd-711f-45ad-ad6e-111547ef7f69 button.colab-df-convert');\n",
              "        buttonEl.style.display =\n",
              "          google.colab.kernel.accessAllowed ? 'block' : 'none';\n",
              "\n",
              "        async function convertToInteractive(key) {\n",
              "          const element = document.querySelector('#df-106759fd-711f-45ad-ad6e-111547ef7f69');\n",
              "          const dataTable =\n",
              "            await google.colab.kernel.invokeFunction('convertToInteractive',\n",
              "                                                     [key], {});\n",
              "          if (!dataTable) return;\n",
              "\n",
              "          const docLinkHtml = 'Like what you see? Visit the ' +\n",
              "            '<a target=\"_blank\" href=https://colab.research.google.com/notebooks/data_table.ipynb>data table notebook</a>'\n",
              "            + ' to learn more about interactive tables.';\n",
              "          element.innerHTML = '';\n",
              "          dataTable['output_type'] = 'display_data';\n",
              "          await google.colab.output.renderOutput(dataTable, element);\n",
              "          const docLink = document.createElement('div');\n",
              "          docLink.innerHTML = docLinkHtml;\n",
              "          element.appendChild(docLink);\n",
              "        }\n",
              "      </script>\n",
              "    </div>\n",
              "  </div>\n",
              "  "
            ]
          },
          "metadata": {},
          "execution_count": 3
        }
      ]
    },
    {
      "cell_type": "code",
      "source": [
        "flights.info()"
      ],
      "metadata": {
        "id": "-3PvtC1l95WO",
        "colab": {
          "base_uri": "https://localhost:8080/"
        },
        "outputId": "11495c21-5b0f-4be8-d1b6-56c994883d6f"
      },
      "execution_count": 4,
      "outputs": [
        {
          "output_type": "stream",
          "name": "stdout",
          "text": [
            "<class 'pandas.core.frame.DataFrame'>\n",
            "RangeIndex: 336776 entries, 0 to 336775\n",
            "Data columns (total 19 columns):\n",
            " #   Column          Non-Null Count   Dtype  \n",
            "---  ------          --------------   -----  \n",
            " 0   year            336776 non-null  int64  \n",
            " 1   month           336776 non-null  int64  \n",
            " 2   day             336776 non-null  int64  \n",
            " 3   dep_time        328521 non-null  float64\n",
            " 4   sched_dep_time  336776 non-null  int64  \n",
            " 5   dep_delay       328521 non-null  float64\n",
            " 6   arr_time        328063 non-null  float64\n",
            " 7   sched_arr_time  336776 non-null  int64  \n",
            " 8   arr_delay       327346 non-null  float64\n",
            " 9   carrier         336776 non-null  object \n",
            " 10  flight          336776 non-null  int64  \n",
            " 11  tailnum         334264 non-null  object \n",
            " 12  origin          336776 non-null  object \n",
            " 13  dest            336776 non-null  object \n",
            " 14  air_time        327346 non-null  float64\n",
            " 15  distance        336776 non-null  int64  \n",
            " 16  hour            336776 non-null  int64  \n",
            " 17  minute          336776 non-null  int64  \n",
            " 18  time_hour       336776 non-null  object \n",
            "dtypes: float64(5), int64(9), object(5)\n",
            "memory usage: 48.8+ MB\n"
          ]
        }
      ]
    },
    {
      "cell_type": "markdown",
      "source": [
        "---\n",
        "# Data cleaning\n",
        "\n",
        "**Task-1**: There are some missing values in the `dep_delay` and `arr_delay` columns. How many flight records have missing values in `dep_delay`? How many flight records have missing value in `arr_delay`?\n",
        "\n",
        "The expected answer is 8255 and 9430."
      ],
      "metadata": {
        "id": "iYm1VMeT-F3H"
      }
    },
    {
      "cell_type": "code",
      "source": [
        "# ANSWER\n",
        "\n",
        "# counting the missing values in dep_delay using isna() function\n",
        "dep_delay_missing = pd.isna(flights[\"dep_delay\"]).sum()\n",
        "print(dep_delay_missing) \n",
        "\n",
        "#counting the missing values in arr_delay using isna() function\n",
        "arr_delay_missing = pd.isna(flights[\"arr_delay\"]).sum()\n",
        "print(arr_delay_missing) \n"
      ],
      "metadata": {
        "id": "6JPhcN_ttQjF",
        "colab": {
          "base_uri": "https://localhost:8080/"
        },
        "outputId": "58330f39-8327-43a5-be5e-56eeed2fd57a"
      },
      "execution_count": 5,
      "outputs": [
        {
          "output_type": "stream",
          "name": "stdout",
          "text": [
            "8255\n",
            "9430\n"
          ]
        }
      ]
    },
    {
      "cell_type": "markdown",
      "source": [
        "---\n",
        "**Task-2**: Clean the flights data by removing flight record that contain missing values in either `dep_delay` or `arr_delay` or both, and save the non-canceled flights in a new Padas DataFrame `not_canceled`. How many rows remained in `not_canceled`?\n",
        "\n",
        "The expected answer is 327,346."
      ],
      "metadata": {
        "id": "RwGZOW4Wt7EN"
      }
    },
    {
      "cell_type": "code",
      "source": [
        "# ANSWER\n",
        "# Removing missing values in dep_delay or arr_delay or both & saving\n",
        "not_canceled = flights.dropna(subset=['dep_delay', 'arr_delay'])\n",
        "\n",
        "#The number of rows in not_canceled flights\n",
        "print(len(not_canceled))"
      ],
      "metadata": {
        "id": "ub41of-ytQri",
        "colab": {
          "base_uri": "https://localhost:8080/"
        },
        "outputId": "f5ead90f-e22a-4073-9960-7514ce89b150"
      },
      "execution_count": 6,
      "outputs": [
        {
          "output_type": "stream",
          "name": "stdout",
          "text": [
            "327346\n"
          ]
        }
      ]
    },
    {
      "cell_type": "markdown",
      "source": [
        "---\n",
        "# Data transformation \n",
        "\n",
        "**For this section, we use `not_canceled` flights only.**\n",
        "\n",
        "Find the **non-canceled** flights that satisfy each of the following conditions.\n"
      ],
      "metadata": {
        "id": "UfBwiluZ-H8l"
      }
    },
    {
      "cell_type": "markdown",
      "source": [
        "\n",
        "**Task-1** Flew during the winter months (December, January, February).\n",
        "\n",
        "The resulting DataFrame should contain 77,029 rows."
      ],
      "metadata": {
        "id": "zy3HDcpj1NY5"
      }
    },
    {
      "cell_type": "code",
      "source": [
        "# ANSWER\n",
        "# Using non-canceled flights in winter months(December, January, February)\n",
        "winter_flights = not_canceled[(not_canceled.month == 12) | (not_canceled.month == 1) | (not_canceled.month == 2)]\n",
        "\n",
        "# Counting the number of rows in winter_flights\n",
        "print(len(winter_flights))\n"
      ],
      "metadata": {
        "id": "frnE79_UtRKe",
        "colab": {
          "base_uri": "https://localhost:8080/"
        },
        "outputId": "1868f017-3835-40a5-ef48-53d28bff5eed"
      },
      "execution_count": 7,
      "outputs": [
        {
          "output_type": "stream",
          "name": "stdout",
          "text": [
            "77029\n"
          ]
        }
      ]
    },
    {
      "cell_type": "markdown",
      "source": [
        "---\n",
        "**Task-2**: Find non-canceled flights that were operated by United Airlines, and had an arrival delay of four or more hours.\n",
        "\n",
        "The resulting DataFrame should contain 252 rows."
      ],
      "metadata": {
        "id": "W2Uabef0v86E"
      }
    },
    {
      "cell_type": "code",
      "source": [
        "# ANSWER\n",
        "# Non-canceled flights operated by United Airlines with arr_delay >= 240 minutes\n",
        "un_delays = not_canceled[(not_canceled.carrier == 'UA') & (not_canceled.arr_delay >= 240)]\n",
        "\n",
        "#Counting the number of rows in united_delays\n",
        "print(len(un_delays))\n"
      ],
      "metadata": {
        "id": "ycWMPGhmtRPZ",
        "colab": {
          "base_uri": "https://localhost:8080/"
        },
        "outputId": "7fc6bbcf-6535-4aaa-9535-24d2f4de9370"
      },
      "execution_count": 8,
      "outputs": [
        {
          "output_type": "stream",
          "name": "stdout",
          "text": [
            "252\n"
          ]
        }
      ]
    },
    {
      "cell_type": "markdown",
      "source": [
        "---\n",
        "**Task-3** Departed from LGA, and had an average flight speed greater than 150 mph (miles per hour).\n",
        "\n",
        "The resulting DataFrame should contain 100,922 rows."
      ],
      "metadata": {
        "id": "nb7_N4rOw3ij"
      }
    },
    {
      "cell_type": "code",
      "source": [
        "# Calculate average flight speed in mph using .loc\n",
        "not_canceled['avg_speed'] = (not_canceled.distance / not_canceled.air_time) * 60\n",
        "\n",
        "# Filter non-canceled flights that departed from LGA with avg_speed > 150 using \n",
        "                   #query method and then loc method : both works fine\n",
        "lga_fast_flights = not_canceled.query(\"origin == 'LGA' & avg_speed > 150\")\n",
        "#lga_fast_flights = not_canceled.loc[(not_canceled.origin == \"LGA\") & \n",
        "                                            # (not_canceled.avg_speed > 150), :]\n",
        "\n",
        "\n",
        "# Count the number of rows in lga_fast_flights\n",
        "print(len(lga_fast_flights)) \n",
        "#I read and understood the warning message appearing after this line and chose to ignore it\n"
      ],
      "metadata": {
        "colab": {
          "base_uri": "https://localhost:8080/"
        },
        "id": "prrcKFyjsBLI",
        "outputId": "198906c6-c1a8-4420-9ff3-73d06a3ae638"
      },
      "execution_count": 9,
      "outputs": [
        {
          "output_type": "stream",
          "name": "stdout",
          "text": [
            "100922\n"
          ]
        },
        {
          "output_type": "stream",
          "name": "stderr",
          "text": [
            "<ipython-input-9-e39cae9c0b32>:2: SettingWithCopyWarning: \n",
            "A value is trying to be set on a copy of a slice from a DataFrame.\n",
            "Try using .loc[row_indexer,col_indexer] = value instead\n",
            "\n",
            "See the caveats in the documentation: https://pandas.pydata.org/pandas-docs/stable/user_guide/indexing.html#returning-a-view-versus-a-copy\n",
            "  not_canceled['avg_speed'] = (not_canceled.distance / not_canceled.air_time) * 60\n"
          ]
        }
      ]
    },
    {
      "cell_type": "markdown",
      "source": [
        "---\n",
        "**Task-4** Had the longest departure delay in May.\n",
        "\n",
        "The expected answer is flight MQ3744 on May 3 with departure delay of 878 minutes."
      ],
      "metadata": {
        "id": "4IiXCREjw9B8"
      }
    },
    {
      "cell_type": "code",
      "source": [
        "#ANSWER\n",
        "# Filtering non-canceled flights that departed in May\n",
        "may_flights = not_canceled[not_canceled.month == 5]\n",
        "\n",
        "# Looking for the flight with the longest departure delay in May\n",
        "longest_delay = may_flights[may_flights.dep_delay == may_flights.dep_delay.max()]\n",
        "\n",
        "# Showing the flight information\n",
        "print(longest_delay[['carrier', 'flight', 'dep_delay']])\n",
        "   #ignore the number 195711, it is row index"
      ],
      "metadata": {
        "id": "IbYaG857tRW6",
        "colab": {
          "base_uri": "https://localhost:8080/"
        },
        "outputId": "853fb630-34dc-4f49-91bb-bbbe0c500f7e"
      },
      "execution_count": 10,
      "outputs": [
        {
          "output_type": "stream",
          "name": "stdout",
          "text": [
            "       carrier  flight  dep_delay\n",
            "195711      MQ    3744      878.0\n"
          ]
        }
      ]
    }
  ]
}