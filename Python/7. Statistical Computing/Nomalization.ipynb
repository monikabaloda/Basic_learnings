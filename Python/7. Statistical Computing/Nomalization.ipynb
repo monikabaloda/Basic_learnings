{
  "nbformat": 4,
  "nbformat_minor": 0,
  "metadata": {
    "colab": {
      "provenance": []
    },
    "kernelspec": {
      "name": "python3",
      "display_name": "Python 3"
    },
    "language_info": {
      "name": "python"
    }
  },
  "cells": [
    {
      "cell_type": "code",
      "source": [
        "import numpy as np\n",
        "import matplotlib.pyplot as plt\n",
        "from scipy import optimize"
      ],
      "metadata": {
        "id": "DQPDr8_pCT0c"
      },
      "execution_count": 1,
      "outputs": []
    },
    {
      "cell_type": "markdown",
      "source": [
        "---\n",
        "# &diams;  Matrix scaling/normalization\n",
        "\n",
        "**Task-1**: Create the following 5x4 numpy array, and save it as `x`.\n",
        "```\n",
        "[[1. 0. 0. 0.]\n",
        " [0. 2. 0. 0.]\n",
        " [0. 0. 3. 0.]\n",
        " [0. 0. 0. 4.]\n",
        " [0. 0. 5. 0.]]\n",
        " ```"
      ],
      "metadata": {
        "id": "BudjcTBp0F7z"
      }
    },
    {
      "cell_type": "code",
      "source": [
        "# ANSWER\n",
        "\n",
        "x = [[1.0, 0.0, 0.0, 0.0],\n",
        "     [0.0, 2.0, 0.0, 0.0],\n",
        "     [0.0, 0.0, 3.0, 0.0],\n",
        "     [0.0, 0.0, 0.0, 4.0],\n",
        "     [0.0, 0.0, 5.0, 0.0]]\n",
        "\n",
        "\n",
        "x = np.array(x)\n",
        "x"
      ],
      "metadata": {
        "id": "6rNjbBGV0WVA",
        "colab": {
          "base_uri": "https://localhost:8080/"
        },
        "outputId": "e83fa5cf-813d-41f7-9988-24f09b4e83c7"
      },
      "execution_count": 2,
      "outputs": [
        {
          "output_type": "execute_result",
          "data": {
            "text/plain": [
              "array([[1., 0., 0., 0.],\n",
              "       [0., 2., 0., 0.],\n",
              "       [0., 0., 3., 0.],\n",
              "       [0., 0., 0., 4.],\n",
              "       [0., 0., 5., 0.]])"
            ]
          },
          "metadata": {},
          "execution_count": 2
        }
      ]
    },
    {
      "cell_type": "markdown",
      "source": [
        "---\n",
        "**Task-2**: Scale the matrix by row, so that all rows have mean 0 and standard deviation 1. Save the scaled matrix as `x_scaled`.\n",
        "\n",
        "The expected result is \n",
        "```\n",
        "[[ 1.73205081 -0.57735027 -0.57735027 -0.57735027]\n",
        " [-0.57735027  1.73205081 -0.57735027 -0.57735027]\n",
        " [-0.57735027 -0.57735027  1.73205081 -0.57735027]\n",
        " [-0.57735027 -0.57735027 -0.57735027  1.73205081]\n",
        " [-0.57735027 -0.57735027  1.73205081 -0.57735027]]\n",
        " ```"
      ],
      "metadata": {
        "id": "q-qoMXgX3IMP"
      }
    },
    {
      "cell_type": "code",
      "source": [
        "# ANSWER\n",
        "import numpy as np\n",
        "\n",
        "#Define the matrix\n",
        "x = np.array([[1., 0., 0., 0.],\n",
        "              [0., 2., 0., 0.],\n",
        "              [0., 0., 3., 0.],\n",
        "              [0., 0., 0., 4.],\n",
        "              [0., 0., 5., 0.]])\n",
        "\n",
        "# Compute mean and standard deviation of each row\n",
        "row_mean = np.mean(x, axis=1, keepdims=True)\n",
        "row_stdev = np.std(x, axis=1, keepdims=True)\n",
        "\n",
        "# subtract the row means and divide by the row standard deviations\n",
        "x_scaled = (x -row_mean) / row_stdev\n",
        "\n",
        "# diplay value\n",
        "print(x_scaled)\n"
      ],
      "metadata": {
        "id": "QkyKbd2s3RfG",
        "colab": {
          "base_uri": "https://localhost:8080/"
        },
        "outputId": "36d3a2d0-66b3-4281-8467-887af47e52da"
      },
      "execution_count": 3,
      "outputs": [
        {
          "output_type": "stream",
          "name": "stdout",
          "text": [
            "[[ 1.73205081 -0.57735027 -0.57735027 -0.57735027]\n",
            " [-0.57735027  1.73205081 -0.57735027 -0.57735027]\n",
            " [-0.57735027 -0.57735027  1.73205081 -0.57735027]\n",
            " [-0.57735027 -0.57735027 -0.57735027  1.73205081]\n",
            " [-0.57735027 -0.57735027  1.73205081 -0.57735027]]\n"
          ]
        }
      ]
    },
    {
      "cell_type": "code",
      "source": [
        "#testing the mean and standard deviation of each row in a numpy array \n",
        "print(np.around(x_scaled.mean(axis=1)))\n",
        "print(x_scaled.std(axis=1))"
      ],
      "metadata": {
        "id": "xx3NiX1T5BxU",
        "colab": {
          "base_uri": "https://localhost:8080/"
        },
        "outputId": "b3dbac49-2039-4685-fd9a-f0d6c601be22"
      },
      "execution_count": 4,
      "outputs": [
        {
          "output_type": "stream",
          "name": "stdout",
          "text": [
            "[-0. -0.  0. -0.  0.]\n",
            "[1. 1. 1. 1. 1.]\n"
          ]
        }
      ]
    },
    {
      "cell_type": "markdown",
      "source": [
        "---\n",
        "**Task-3**: Scale the matrix by column, so that all columns have mean 0 and standard deviation 1. Save the scaled matrix as `x_scaled2`.\n",
        "\n",
        "\n",
        "The expected result is \n",
        "```\n",
        "[[ 2.         -0.5        -0.77702869 -0.5       ]\n",
        " [-0.5         2.         -0.77702869 -0.5       ]\n",
        " [-0.5        -0.5         0.6799001  -0.5       ]\n",
        " [-0.5        -0.5        -0.77702869  2.        ]\n",
        " [-0.5        -0.5         1.65118597 -0.5       ]]\n",
        " ```"
      ],
      "metadata": {
        "id": "aafBgxz-3gZd"
      }
    },
    {
      "cell_type": "code",
      "source": [
        "#ANSWER\n",
        "import numpy as np\n",
        "\n",
        "# Repeating all the steps again\n",
        "# Define the matrix\n",
        "x = np.array([[1., 0., 0., 0.],\n",
        "              [0., 2., 0., 0.],\n",
        "              [0., 0., 3., 0.],\n",
        "              [0., 0., 0., 4.],\n",
        "              [0., 0., 5., 0.]])\n",
        "\n",
        "# Compute the mean and standard deviation of each column\n",
        "col_mean = np.mean(x, axis=0, keepdims=True)\n",
        "col_stdev = np.std(x, axis=0, keepdims=True)\n",
        "\n",
        "# subtract the column mean and then divide by the standard deviations\n",
        "x_scaled2 = (x - col_mean)/ col_stdev\n",
        "\n",
        "print(x_scaled2)\n"
      ],
      "metadata": {
        "id": "ZSunA_uw31r0",
        "colab": {
          "base_uri": "https://localhost:8080/"
        },
        "outputId": "34c4b716-7cfe-4150-e2c7-7fea7ae9e61d"
      },
      "execution_count": 5,
      "outputs": [
        {
          "output_type": "stream",
          "name": "stdout",
          "text": [
            "[[ 2.         -0.5        -0.77702869 -0.5       ]\n",
            " [-0.5         2.         -0.77702869 -0.5       ]\n",
            " [-0.5        -0.5         0.6799001  -0.5       ]\n",
            " [-0.5        -0.5        -0.77702869  2.        ]\n",
            " [-0.5        -0.5         1.65118597 -0.5       ]]\n"
          ]
        }
      ]
    },
    {
      "cell_type": "code",
      "source": [
        "# testing\n",
        "print(np.around(x_scaled2.mean(axis=0)))\n",
        "print(x_scaled2.std(axis=0))"
      ],
      "metadata": {
        "id": "m4B0kHO15Rki",
        "colab": {
          "base_uri": "https://localhost:8080/"
        },
        "outputId": "1c320682-dd79-490a-fb10-b120f0a935fc"
      },
      "execution_count": 6,
      "outputs": [
        {
          "output_type": "stream",
          "name": "stdout",
          "text": [
            "[-0. -0. -0.  0.]\n",
            "[1. 1. 1. 1.]\n"
          ]
        }
      ]
    }
  ]
}