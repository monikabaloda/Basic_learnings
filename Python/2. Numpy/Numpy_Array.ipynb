{
  "nbformat": 4,
  "nbformat_minor": 0,
  "metadata": {
    "colab": {
      "provenance": []
    },
    "kernelspec": {
      "name": "python3",
      "display_name": "Python 3"
    },
    "language_info": {
      "name": "python"
    }
  },
  "cells": [
    {
      "cell_type": "markdown",
      "source": [
        "---\n",
        "# Numpy Arrays\n",
        "\n",
        "- Creat a numpy array from a python list\n",
        "\n",
        "- Create a numpy array with initializing functions\n",
        "    * `np.zeros()`\n",
        "    * `np.ones()`\n",
        "    * `np.arange()`\n",
        "\n",
        "- Change the shape of an exisitng numpy array\n",
        "    * `np.reshape()`\n",
        "\n"
      ],
      "metadata": {
        "id": "9YlQkMqNMY6N"
      }
    },
    {
      "cell_type": "code",
      "source": [
        "import numpy as np \n",
        "\n",
        "a_1d = np.arange(3)\n",
        "print(a_1d)\n",
        "print(\"----\")\n",
        "\n",
        "a_2d = np.array([[1.,2.], [3.,4.]])\n",
        "print(a_2d)\n",
        "print(\"----\")\n",
        "\n",
        "a_3d = np.array([[[1,2], [3,4]], [[5,6], [7,8]]])\n",
        "print(a_3d)"
      ],
      "metadata": {
        "id": "Iso1VZrKMexH",
        "colab": {
          "base_uri": "https://localhost:8080/"
        },
        "outputId": "05367a1a-1bc1-49de-8fdb-c3d823569699"
      },
      "execution_count": 1,
      "outputs": [
        {
          "output_type": "stream",
          "name": "stdout",
          "text": [
            "[0 1 2]\n",
            "----\n",
            "[[1. 2.]\n",
            " [3. 4.]]\n",
            "----\n",
            "[[[1 2]\n",
            "  [3 4]]\n",
            "\n",
            " [[5 6]\n",
            "  [7 8]]]\n"
          ]
        }
      ]
    },
    {
      "cell_type": "code",
      "source": [
        "np.zeros(5)  #creating an array of five zeros "
      ],
      "metadata": {
        "id": "SQEUCRW9M4Wv",
        "colab": {
          "base_uri": "https://localhost:8080/"
        },
        "outputId": "8c271c79-75c1-4d27-83fd-e53c5d405ce0"
      },
      "execution_count": 2,
      "outputs": [
        {
          "output_type": "execute_result",
          "data": {
            "text/plain": [
              "array([0., 0., 0., 0., 0.])"
            ]
          },
          "metadata": {},
          "execution_count": 2
        }
      ]
    },
    {
      "cell_type": "code",
      "source": [
        "np.ones((5,5)) * 2023 #creating 2-D array of 2023s"
      ],
      "metadata": {
        "id": "BbaEo3leNLRp",
        "colab": {
          "base_uri": "https://localhost:8080/"
        },
        "outputId": "88b38a59-6c71-4d24-f478-808806a17437"
      },
      "execution_count": 3,
      "outputs": [
        {
          "output_type": "execute_result",
          "data": {
            "text/plain": [
              "array([[2023., 2023., 2023., 2023., 2023.],\n",
              "       [2023., 2023., 2023., 2023., 2023.],\n",
              "       [2023., 2023., 2023., 2023., 2023.],\n",
              "       [2023., 2023., 2023., 2023., 2023.],\n",
              "       [2023., 2023., 2023., 2023., 2023.]])"
            ]
          },
          "metadata": {},
          "execution_count": 3
        }
      ]
    },
    {
      "cell_type": "code",
      "source": [
        "#creating aaray of four even numbers starting from 2, arranged in 2x2 array \n",
        "np.arange(2, 10, 2)\n",
        "np.arange(2, 10, 2).reshape(-1, 2)"
      ],
      "metadata": {
        "id": "QQUvOE19NPEy",
        "colab": {
          "base_uri": "https://localhost:8080/"
        },
        "outputId": "90bd3c5d-cb40-43bb-eb34-4ab1782c7412"
      },
      "execution_count": 4,
      "outputs": [
        {
          "output_type": "execute_result",
          "data": {
            "text/plain": [
              "array([[2, 4],\n",
              "       [6, 8]])"
            ]
          },
          "metadata": {},
          "execution_count": 4
        }
      ]
    },
    {
      "cell_type": "markdown",
      "source": [
        "---\n",
        "# Array Broadcasting\n",
        "\n",
        "When operating on two arrays, NumPy compares their shapes element-wise. It starts with the trailing (i.e. rightmost) dimensions and works its way left. Two dimensions are compatible when\n",
        "\n",
        "1. they are equal, or\n",
        "2. one of them is 1 (or missing)"
      ],
      "metadata": {
        "id": "sCjTrua7RQaY"
      }
    },
    {
      "cell_type": "markdown",
      "source": [
        "![](http://scipy-lectures.org/_images/numpy_broadcasting.png)"
      ],
      "metadata": {
        "id": "um9FfU3bkV7-"
      }
    },
    {
      "cell_type": "code",
      "source": [
        "import numpy as np"
      ],
      "metadata": {
        "id": "YfKE6wfKktAR"
      },
      "execution_count": 5,
      "outputs": []
    },
    {
      "cell_type": "markdown",
      "source": [
        "*Illustration of Array addition in python*"
      ],
      "metadata": {
        "id": "PnSwgZ74Gk1p"
      }
    },
    {
      "cell_type": "code",
      "source": [
        "A = np.tile(np.arange(0, 40, 10), (3, 1)).T\n",
        "A"
      ],
      "metadata": {
        "id": "2t4ar5gZkVEo",
        "outputId": "0509e3c5-2123-4ded-f41b-862299df6a9d",
        "colab": {
          "base_uri": "https://localhost:8080/"
        }
      },
      "execution_count": 6,
      "outputs": [
        {
          "output_type": "execute_result",
          "data": {
            "text/plain": [
              "array([[ 0,  0,  0],\n",
              "       [10, 10, 10],\n",
              "       [20, 20, 20],\n",
              "       [30, 30, 30]])"
            ]
          },
          "metadata": {},
          "execution_count": 6
        }
      ]
    },
    {
      "cell_type": "code",
      "source": [
        "B = np.tile(np.arange(3), (4, 1))\n",
        "B"
      ],
      "metadata": {
        "id": "zmS7nKizkwlB",
        "outputId": "f0e04f64-7aa5-471e-f9a3-60d836cd7a71",
        "colab": {
          "base_uri": "https://localhost:8080/"
        }
      },
      "execution_count": 7,
      "outputs": [
        {
          "output_type": "execute_result",
          "data": {
            "text/plain": [
              "array([[0, 1, 2],\n",
              "       [0, 1, 2],\n",
              "       [0, 1, 2],\n",
              "       [0, 1, 2]])"
            ]
          },
          "metadata": {},
          "execution_count": 7
        }
      ]
    },
    {
      "cell_type": "code",
      "source": [
        "A + B"
      ],
      "metadata": {
        "id": "9i-beY2iAhBY",
        "outputId": "480e1f21-77f1-4479-88e0-131f004bd4b5",
        "colab": {
          "base_uri": "https://localhost:8080/"
        }
      },
      "execution_count": 8,
      "outputs": [
        {
          "output_type": "execute_result",
          "data": {
            "text/plain": [
              "array([[ 0,  1,  2],\n",
              "       [10, 11, 12],\n",
              "       [20, 21, 22],\n",
              "       [30, 31, 32]])"
            ]
          },
          "metadata": {},
          "execution_count": 8
        }
      ]
    },
    {
      "cell_type": "code",
      "source": [
        "b = np.arange(3)\n",
        "b"
      ],
      "metadata": {
        "id": "KpnntlZlA_X0",
        "outputId": "02bc2ebf-f3e0-4320-c6ee-7355fac5b15e",
        "colab": {
          "base_uri": "https://localhost:8080/"
        }
      },
      "execution_count": 9,
      "outputs": [
        {
          "output_type": "execute_result",
          "data": {
            "text/plain": [
              "array([0, 1, 2])"
            ]
          },
          "metadata": {},
          "execution_count": 9
        }
      ]
    },
    {
      "cell_type": "code",
      "source": [
        "A + b"
      ],
      "metadata": {
        "id": "Zc2AgY6UAiWJ",
        "outputId": "82901af8-c383-47ad-b265-9bb5054ebdc3",
        "colab": {
          "base_uri": "https://localhost:8080/"
        }
      },
      "execution_count": 10,
      "outputs": [
        {
          "output_type": "execute_result",
          "data": {
            "text/plain": [
              "array([[ 0,  1,  2],\n",
              "       [10, 11, 12],\n",
              "       [20, 21, 22],\n",
              "       [30, 31, 32]])"
            ]
          },
          "metadata": {},
          "execution_count": 10
        }
      ]
    },
    {
      "cell_type": "code",
      "source": [
        "a = np.arange(0, 40, 10).reshape(-1, 1)\n",
        "a"
      ],
      "metadata": {
        "id": "GJiNv4u0Ali5",
        "outputId": "338e6cbd-36fa-40e3-d1c2-531d884d0d0b",
        "colab": {
          "base_uri": "https://localhost:8080/"
        }
      },
      "execution_count": 11,
      "outputs": [
        {
          "output_type": "execute_result",
          "data": {
            "text/plain": [
              "array([[ 0],\n",
              "       [10],\n",
              "       [20],\n",
              "       [30]])"
            ]
          },
          "metadata": {},
          "execution_count": 11
        }
      ]
    },
    {
      "cell_type": "code",
      "source": [
        "a + b"
      ],
      "metadata": {
        "id": "ZAeWpTPzlTfT",
        "outputId": "9c9b9e71-2c18-422c-ef56-64e471a15f11",
        "colab": {
          "base_uri": "https://localhost:8080/"
        }
      },
      "execution_count": 12,
      "outputs": [
        {
          "output_type": "execute_result",
          "data": {
            "text/plain": [
              "array([[ 0,  1,  2],\n",
              "       [10, 11, 12],\n",
              "       [20, 21, 22],\n",
              "       [30, 31, 32]])"
            ]
          },
          "metadata": {},
          "execution_count": 12
        }
      ]
    },
    {
      "cell_type": "markdown",
      "source": [
        "---\n",
        "### &diams; Exercise\n",
        "\n",
        "Create a (3,4) numpy array $A$ such that $A_{ij} = i\\times j$.\n",
        "\n",
        "1. Use list comprehension\n",
        "2. Use array broadcasting\n",
        "\n",
        "The resulting array is,\n",
        "```\n",
        "array([[0, 0, 0, 0],\n",
        "       [0, 1, 2, 3],\n",
        "       [0, 2, 4, 6]])\n",
        "```\n"
      ],
      "metadata": {
        "id": "4SCYD--7XUcQ"
      }
    },
    {
      "cell_type": "code",
      "source": [
        "# 1. Use list comprehension \n",
        "import numpy as np\n",
        "\n",
        "np.array([[i * j for j in range(4)] for i in range(3)])\n"
      ],
      "metadata": {
        "id": "U2_Ra0ifYx0G",
        "colab": {
          "base_uri": "https://localhost:8080/"
        },
        "outputId": "2e87380e-364a-4ca2-de80-fe59c9c93e28"
      },
      "execution_count": 13,
      "outputs": [
        {
          "output_type": "execute_result",
          "data": {
            "text/plain": [
              "array([[0, 0, 0, 0],\n",
              "       [0, 1, 2, 3],\n",
              "       [0, 2, 4, 6]])"
            ]
          },
          "metadata": {},
          "execution_count": 13
        }
      ]
    },
    {
      "cell_type": "code",
      "source": [
        "# 2. Use array broadcasting\n",
        "x=np.zeros((3,4))\n",
        "x[1,1:]=np.arange(1,4,1)\n",
        "x[2,1:]=np.arange(2,8,2)\n",
        "x"
      ],
      "metadata": {
        "id": "84fnZv0v3c3z",
        "colab": {
          "base_uri": "https://localhost:8080/"
        },
        "outputId": "94872c89-3e67-4c21-8436-1357f84be7db"
      },
      "execution_count": 14,
      "outputs": [
        {
          "output_type": "execute_result",
          "data": {
            "text/plain": [
              "array([[0., 0., 0., 0.],\n",
              "       [0., 1., 2., 3.],\n",
              "       [0., 2., 4., 6.]])"
            ]
          },
          "metadata": {},
          "execution_count": 14
        }
      ]
    },
    {
      "cell_type": "markdown",
      "source": [
        "---\n",
        "# Array indexing and slicing\n",
        "\n",
        "![](http://scipy-lectures.org/_images/numpy_indexing.png)\n",
        "\n"
      ],
      "metadata": {
        "id": "YLkWv91WUE2c"
      }
    },
    {
      "cell_type": "code",
      "source": [
        "a = 10*np.arange(6).reshape(-1,1) + np.arange(6)\n",
        "print(a)"
      ],
      "metadata": {
        "id": "TnZuOhxS1f7t",
        "colab": {
          "base_uri": "https://localhost:8080/"
        },
        "outputId": "62dbeaa2-3e22-4c41-873b-80b92a2792aa"
      },
      "execution_count": 15,
      "outputs": [
        {
          "output_type": "stream",
          "name": "stdout",
          "text": [
            "[[ 0  1  2  3  4  5]\n",
            " [10 11 12 13 14 15]\n",
            " [20 21 22 23 24 25]\n",
            " [30 31 32 33 34 35]\n",
            " [40 41 42 43 44 45]\n",
            " [50 51 52 53 54 55]]\n"
          ]
        }
      ]
    },
    {
      "cell_type": "code",
      "source": [
        "# red-color selection\n",
        "a[0, 3:5]"
      ],
      "metadata": {
        "id": "qteJTymhoGxi",
        "colab": {
          "base_uri": "https://localhost:8080/"
        },
        "outputId": "4d55c4f4-48d1-4812-9fed-03db5787fe0e"
      },
      "execution_count": 16,
      "outputs": [
        {
          "output_type": "execute_result",
          "data": {
            "text/plain": [
              "array([3, 4])"
            ]
          },
          "metadata": {},
          "execution_count": 16
        }
      ]
    },
    {
      "cell_type": "code",
      "source": [
        "# green-color selection\n",
        "a[4:, 4:]"
      ],
      "metadata": {
        "id": "IqTIO3WB1eBc",
        "colab": {
          "base_uri": "https://localhost:8080/"
        },
        "outputId": "be63f864-28ef-4922-f232-c2e9be2acf29"
      },
      "execution_count": 17,
      "outputs": [
        {
          "output_type": "execute_result",
          "data": {
            "text/plain": [
              "array([[44, 45],\n",
              "       [54, 55]])"
            ]
          },
          "metadata": {},
          "execution_count": 17
        }
      ]
    },
    {
      "cell_type": "code",
      "source": [
        "# blue-color selection\n",
        "a[:, 2]"
      ],
      "metadata": {
        "id": "fhctXIRW1i69",
        "colab": {
          "base_uri": "https://localhost:8080/"
        },
        "outputId": "89c611b3-b144-4fdb-b088-0bc24077c929"
      },
      "execution_count": 18,
      "outputs": [
        {
          "output_type": "execute_result",
          "data": {
            "text/plain": [
              "array([ 2, 12, 22, 32, 42, 52])"
            ]
          },
          "metadata": {},
          "execution_count": 18
        }
      ]
    },
    {
      "cell_type": "code",
      "source": [
        "# purple-color selection\n",
        "a[2::2, ::2]"
      ],
      "metadata": {
        "id": "8HeG0CyE1tXG",
        "colab": {
          "base_uri": "https://localhost:8080/"
        },
        "outputId": "2130e67a-da8b-41c4-c545-9d706e52211b"
      },
      "execution_count": 19,
      "outputs": [
        {
          "output_type": "execute_result",
          "data": {
            "text/plain": [
              "array([[20, 22, 24],\n",
              "       [40, 42, 44]])"
            ]
          },
          "metadata": {},
          "execution_count": 19
        }
      ]
    },
    {
      "cell_type": "markdown",
      "source": [
        "---\n",
        "### &diams; Exercise\n",
        "Create the following matrices\n",
        "\n",
        "```\n",
        "array([[1., 1., 1., 1., 1., 1.],\n",
        "       [1., 1., 0., 0., 0., 1.],\n",
        "       [1., 1., 0., 0., 0., 1.],\n",
        "       [1., 1., 0., 0., 0., 1.],\n",
        "       [1., 1., 0., 0., 0., 1.],\n",
        "       [1., 1., 1., 1., 1., 1.]])\n",
        "```"
      ],
      "metadata": {
        "id": "4MZomblzQ5hx"
      }
    },
    {
      "cell_type": "code",
      "source": [
        "import numpy as np\n",
        "\n",
        "A = np.ones((6,6))\n",
        "A[1:-1,2:-1] = 0\n",
        "print(A)"
      ],
      "metadata": {
        "id": "e_gILlg3o8TP",
        "colab": {
          "base_uri": "https://localhost:8080/"
        },
        "outputId": "d5c5a2c5-c871-4de2-e45d-175b892c915d"
      },
      "execution_count": 20,
      "outputs": [
        {
          "output_type": "stream",
          "name": "stdout",
          "text": [
            "[[1. 1. 1. 1. 1. 1.]\n",
            " [1. 1. 0. 0. 0. 1.]\n",
            " [1. 1. 0. 0. 0. 1.]\n",
            " [1. 1. 0. 0. 0. 1.]\n",
            " [1. 1. 0. 0. 0. 1.]\n",
            " [1. 1. 1. 1. 1. 1.]]\n"
          ]
        }
      ]
    },
    {
      "cell_type": "markdown",
      "source": [
        "```\n",
        "array([[   0.,    0.,    0.,    0.,    0.],\n",
        "       [   0.,    0.,    0.,    0.,    0.],\n",
        "       [   0.,    0.,    0.,    0.,    0.],\n",
        "       [   0., 2023., 2022., 2021., 2020.],\n",
        "       [   0., 2019., 2018., 2017., 2016.]])\n",
        "```"
      ],
      "metadata": {
        "id": "7lZykjA8rm3N"
      }
    },
    {
      "cell_type": "code",
      "source": [
        "A = np.zeros((5,5))\n",
        "A[3,1:] = [2023, 2022, 2021, 2020]\n",
        "A[4,1:] = [2019, 2018, 2017, 2016]\n",
        "print(A)"
      ],
      "metadata": {
        "id": "J3mh0HoxrGLU",
        "colab": {
          "base_uri": "https://localhost:8080/"
        },
        "outputId": "8c71cd81-ec61-43d1-dab2-ea315d9b5bcb"
      },
      "execution_count": 21,
      "outputs": [
        {
          "output_type": "stream",
          "name": "stdout",
          "text": [
            "[[   0.    0.    0.    0.    0.]\n",
            " [   0.    0.    0.    0.    0.]\n",
            " [   0.    0.    0.    0.    0.]\n",
            " [   0. 2023. 2022. 2021. 2020.]\n",
            " [   0. 2019. 2018. 2017. 2016.]]\n"
          ]
        }
      ]
    },
    {
      "cell_type": "markdown",
      "source": [
        "```\n",
        "array([[0., 0., 0., 0., 0., 0., 0., 0., 0., 1.],\n",
        "       [0., 0., 0., 0., 0., 0., 0., 1., 0., 0.],\n",
        "       [0., 0., 0., 0., 0., 1., 0., 0., 0., 0.],\n",
        "       [0., 0., 0., 1., 0., 0., 0., 0., 0., 0.],\n",
        "       [0., 1., 0., 0., 0., 0., 0., 0., 0., 0.],\n",
        "       [0., 2., 0., 0., 0., 0., 0., 0., 0., 0.],\n",
        "       [0., 0., 0., 3., 0., 0., 0., 0., 0., 0.],\n",
        "       [0., 0., 0., 0., 0., 4., 0., 0., 0., 0.],\n",
        "       [0., 0., 0., 0., 0., 0., 0., 5., 0., 0.],\n",
        "       [0., 0., 0., 0., 0., 0., 0., 0., 0., 6.]])\n",
        "```\n"
      ],
      "metadata": {
        "id": "K89kv5yFpiRj"
      }
    },
    {
      "cell_type": "code",
      "source": [
        "import numpy as np\n",
        "\n",
        "x=np.zeros((10, 10))\n",
        "x[:5,9::-2]=np.identity(5)\n",
        "x[5:,1::2]=np.diag((np.arange(2,7)))\n",
        "\n",
        "print(x)\n",
        "\n"
      ],
      "metadata": {
        "id": "lWhvEK3XqRjW",
        "colab": {
          "base_uri": "https://localhost:8080/"
        },
        "outputId": "f1abdbca-1d3d-4ecb-cf10-4ac67fe01fe4"
      },
      "execution_count": 22,
      "outputs": [
        {
          "output_type": "stream",
          "name": "stdout",
          "text": [
            "[[0. 0. 0. 0. 0. 0. 0. 0. 0. 1.]\n",
            " [0. 0. 0. 0. 0. 0. 0. 1. 0. 0.]\n",
            " [0. 0. 0. 0. 0. 1. 0. 0. 0. 0.]\n",
            " [0. 0. 0. 1. 0. 0. 0. 0. 0. 0.]\n",
            " [0. 1. 0. 0. 0. 0. 0. 0. 0. 0.]\n",
            " [0. 2. 0. 0. 0. 0. 0. 0. 0. 0.]\n",
            " [0. 0. 0. 3. 0. 0. 0. 0. 0. 0.]\n",
            " [0. 0. 0. 0. 0. 4. 0. 0. 0. 0.]\n",
            " [0. 0. 0. 0. 0. 0. 0. 5. 0. 0.]\n",
            " [0. 0. 0. 0. 0. 0. 0. 0. 0. 6.]]\n"
          ]
        }
      ]
    }
  ]
}