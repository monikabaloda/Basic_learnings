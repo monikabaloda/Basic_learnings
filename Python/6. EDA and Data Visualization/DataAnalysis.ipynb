{
  "nbformat": 4,
  "nbformat_minor": 0,
  "metadata": {
    "kernelspec": {
      "display_name": "Python 3",
      "language": "python",
      "name": "python3"
    },
    "language_info": {
      "codemirror_mode": {
        "name": "ipython",
        "version": 3
      },
      "file_extension": ".py",
      "mimetype": "text/x-python",
      "name": "python",
      "nbconvert_exporter": "python",
      "pygments_lexer": "ipython3",
      "version": "3.8.5"
    },
    "colab": {
      "provenance": []
    }
  },
  "cells": [
    {
      "cell_type": "markdown",
      "metadata": {
        "id": "RkEoidrMBn6E"
      },
      "source": [
        "In this notebook, we do data cleaning, transformation, and then some exploratory data analysis.\n",
        "\n",
        "We use nycflights13 dataset which contains the information of all the flights that departed from New York City in 2013. "
      ]
    },
    {
      "cell_type": "code",
      "metadata": {
        "id": "hIgVzP7LCh0u"
      },
      "source": [
        "#importing relevant libraries \n",
        "import numpy as np\n",
        "import pandas as pd\n",
        "import matplotlib.pyplot as plt"
      ],
      "execution_count": 1,
      "outputs": []
    },
    {
      "cell_type": "markdown",
      "source": [
        "---\n",
        "# Flight Cancellation Analysis:\n",
        "**For this question, use the full `flights` table, rather than the `not_canceled` table.**\n",
        "\n",
        "**Task-1** What was the flight cancellation rate in each month? Report the  answer in a DataFrame with 12 rows (one row for each month) and four columns (month, the number of flights in the month, the number of canceled flights in the month, and the flight cancellation rate in the month). Sort the DataFrame by the flight cancellation rate.\n",
        "\n",
        "Which month had the highest flight cancellation rate? Which month had the lowest flight cancellation rate?\n",
        "\n",
        " Functions used: `isna()`, `groupby()` and `groupby.size()`.\n",
        "\n",
        "The expected answer is: February has the highest cancelation rate of 0.053705; October has the lowset cancellation rate of 0.009381.\n"
      ],
      "metadata": {
        "id": "TrOUzPB9-IEW"
      }
    },
    {
      "cell_type": "code",
      "source": [
        "# install the package\n",
        "!pip install nycflights13\n",
        "from nycflights13 import flights"
      ],
      "metadata": {
        "colab": {
          "base_uri": "https://localhost:8080/"
        },
        "id": "SBroo9JMAyFQ",
        "outputId": "38ba1e3c-98a6-41b3-d1de-a999b8cd2273"
      },
      "execution_count": 2,
      "outputs": [
        {
          "output_type": "stream",
          "name": "stdout",
          "text": [
            "Looking in indexes: https://pypi.org/simple, https://us-python.pkg.dev/colab-wheels/public/simple/\n",
            "Collecting nycflights13\n",
            "  Downloading nycflights13-0.0.3.tar.gz (8.7 MB)\n",
            "\u001b[2K     \u001b[90m━━━━━━━━━━━━━━━━━━━━━━━━━━━━━━━━━━━━━━━━\u001b[0m \u001b[32m8.7/8.7 MB\u001b[0m \u001b[31m45.4 MB/s\u001b[0m eta \u001b[36m0:00:00\u001b[0m\n",
            "\u001b[?25h  Preparing metadata (setup.py) ... \u001b[?25l\u001b[?25hdone\n",
            "Requirement already satisfied: pandas>=0.24.0 in /usr/local/lib/python3.9/dist-packages (from nycflights13) (1.4.4)\n",
            "Requirement already satisfied: python-dateutil>=2.8.1 in /usr/local/lib/python3.9/dist-packages (from pandas>=0.24.0->nycflights13) (2.8.2)\n",
            "Requirement already satisfied: pytz>=2020.1 in /usr/local/lib/python3.9/dist-packages (from pandas>=0.24.0->nycflights13) (2022.7.1)\n",
            "Requirement already satisfied: numpy>=1.18.5 in /usr/local/lib/python3.9/dist-packages (from pandas>=0.24.0->nycflights13) (1.22.4)\n",
            "Requirement already satisfied: six>=1.5 in /usr/local/lib/python3.9/dist-packages (from python-dateutil>=2.8.1->pandas>=0.24.0->nycflights13) (1.16.0)\n",
            "Building wheels for collected packages: nycflights13\n",
            "  Building wheel for nycflights13 (setup.py) ... \u001b[?25l\u001b[?25hdone\n",
            "  Created wheel for nycflights13: filename=nycflights13-0.0.3-py3-none-any.whl size=8732740 sha256=fbbcb2afe4fa6b9b4922880de8d4909f0ec7589d26d590f8be1b1923a9ef0bf1\n",
            "  Stored in directory: /root/.cache/pip/wheels/0e/b7/7b/c129c6a2717d8825caa178f3b07e260cfb12c39f95fd165ff1\n",
            "Successfully built nycflights13\n",
            "Installing collected packages: nycflights13\n",
            "Successfully installed nycflights13-0.0.3\n"
          ]
        }
      ]
    },
    {
      "cell_type": "code",
      "source": [
        "\n",
        "# Grouping the data by month & counting number of flights\n",
        "flights_by_month = flights.groupby('month').size().reset_index(name='num_flights')\n",
        "\n",
        "# The number of canceled flights\n",
        "canceled_flights_by_month = flights[flights['dep_time'].isna()].groupby('month').size().reset_index(name='num_canceled')\n",
        "\n",
        "# Merging two dataframes\n",
        "merged_df = pd.merge(flights_by_month, canceled_flights_by_month, on='month', how='left')\n",
        "\n",
        "\n",
        "# Fill in missing values with 0\n",
        "merged_df['num_canceled'] = merged_df['num_canceled'].fillna(0)\n",
        "\n",
        "# Calculate the flight cancellation rate\n",
        "merged_df['cancel_rate'] = merged_df['num_canceled'] / merged_df['num_flights']\n",
        "\n",
        "# Sort by cancellation rate\n",
        "merged_df = merged_df.sort_values('cancel_rate', ascending=False)\n",
        "\n",
        "# Print the result\n",
        "print(merged_df)\n"
      ],
      "metadata": {
        "id": "VDSPHFpNtRxp",
        "colab": {
          "base_uri": "https://localhost:8080/"
        },
        "outputId": "e6b6e078-954c-4602-89c5-87ca89251e28"
      },
      "execution_count": 3,
      "outputs": [
        {
          "output_type": "stream",
          "name": "stdout",
          "text": [
            "    month  num_flights  num_canceled  cancel_rate\n",
            "1       2        24951          1261     0.050539\n",
            "11     12        28135          1025     0.036431\n",
            "5       6        28243          1009     0.035726\n",
            "6       7        29425           940     0.031946\n",
            "2       3        28834           861     0.029861\n",
            "3       4        28330           668     0.023579\n",
            "4       5        28796           563     0.019551\n",
            "0       1        27004           521     0.019293\n",
            "7       8        29327           486     0.016572\n",
            "8       9        27574           452     0.016392\n",
            "10     11        27268           233     0.008545\n",
            "9      10        28889           236     0.008169\n"
          ]
        }
      ]
    },
    {
      "cell_type": "markdown",
      "source": [
        "---\n",
        "**Task-2**: Use `matplotlib` or `pandas` plotting function to draw a bar plot to display the monthly cancellation rates."
      ],
      "metadata": {
        "id": "WI8h97wMJhhE"
      }
    },
    {
      "cell_type": "code",
      "source": [
        "#ANSWER\n",
        "# Grouping the data by month and count the number of flights\n",
        "flights_by_month = flights.groupby('month').size().reset_index(name='num_flights')\n",
        "\n",
        "# Counting the number of canceled flights\n",
        "canceled_flights_by_month = flights[flights['dep_time'].isna()].groupby('month').size().reset_index(name='num_canceled')\n",
        "\n",
        "# Merging the two dataframes together\n",
        "merged_df = pd.merge(flights_by_month, canceled_flights_by_month, on='month', how='left')\n",
        "\n",
        "# Filling in missing values with 0\n",
        "merged_df['num_canceled'] = merged_df['num_canceled'].fillna(0)\n",
        "\n",
        "# The flight cancellation rate\n",
        "merged_df['cancel_rate'] = merged_df['num_canceled'] / merged_df['num_flights']\n",
        "\n",
        "# Sorting it by cancellation rate\n",
        "merged_df = merged_df.sort_values('cancel_rate', ascending=False)\n",
        "\n",
        "# Plotting the bar chart\n",
        "ax = merged_df.plot.bar(x='month', y='cancel_rate', rot=0)\n",
        "ax.set_xlabel('Month')\n",
        "ax.set_ylabel('Cancellation Rate')\n",
        "ax.set_title('Monthly Flight Cancellation Rates')\n",
        "\n",
        "plt.show()"
      ],
      "metadata": {
        "id": "lDSU2gVqJm-j",
        "colab": {
          "base_uri": "https://localhost:8080/",
          "height": 472
        },
        "outputId": "da44bda1-11cd-4c61-aecc-22012aa44fc6"
      },
      "execution_count": 4,
      "outputs": [
        {
          "output_type": "display_data",
          "data": {
            "text/plain": [
              "<Figure size 640x480 with 1 Axes>"
            ],
            "image/png": "[encoded data removed]"
          },
          "metadata": {}
        }
      ]
    },
    {
      "cell_type": "markdown",
      "source": [
        "---\n",
        "# Summarize flight arrival delays by destination airport\n",
        "\n",
        "**For this problem, use `not_canceled` flights only.**\n",
        "\n",
        "**Task** Generate a DataFrame, where each row is a unique destination airport. \n",
        "Save your results in a tibble called `not_canceled_per_dest`. The DataFrame should have five columns:\n",
        "- the destination airport,\n",
        "- the total number of non-canceled flights to the destination, \n",
        "- the number of unique carriers that had non-canceled flights to the destination,\n",
        "- the average arrival delays at the destination,\n",
        "- the standard deviation of the arrival delays at the destination.\n",
        "\n",
        "Note that it helps to use `reset_index()` so the grouped result won't have a hierarchical index. \n",
        "\n",
        "Expected results: The resulting DataFrame is of shape 104 x 5. The first row is `ABQ\t254\t1\t4.381890\t41.981360`\n"
      ],
      "metadata": {
        "id": "B8-rwZD8-ILz"
      }
    },
    {
      "cell_type": "code",
      "source": [
        "# Removing missing values in dep_delay or arr_delay or both & saving\n",
        "not_canceled = flights.dropna(subset=['dep_delay', 'arr_delay'])\n",
        "\n",
        "# Grouping by destination airport\n",
        "grouped = not_canceled.groupby('dest')\n",
        "\n",
        "# Total number of non-canceled flights to each destination\n",
        "total_flights = grouped.size()\n",
        "\n",
        "# Number of unique carriers that had non-canceled flights to each destination\n",
        "unique_carriers = grouped['carrier'].nunique()\n",
        "\n",
        "# Calculating average arrival delays at each destination\n",
        "mean_arr_delay = grouped['arr_delay'].mean()\n",
        "\n",
        "# Standard deviation of arrival delays at each destination\n",
        "std_arr_delay = grouped['arr_delay'].std()\n",
        "\n",
        "# Making single dataframe\n",
        "not_canceled_per_dest = pd.concat([total_flights, unique_carriers, mean_arr_delay, std_arr_delay], axis=1)\n",
        "\n",
        "# columns renaming\n",
        "not_canceled_per_dest.columns = ['num_flights', 'num_carriers', 'mean_arr_delay', 'std_arr_delay']\n",
        "\n",
        "# Reseting the index and making destination airport a column\n",
        "not_canceled_per_dest = not_canceled_per_dest.reset_index()\n",
        "\n",
        "# Print first row of the DataFrame\n",
        "print(not_canceled_per_dest.iloc[0])"
      ],
      "metadata": {
        "id": "UuudzgeOtSXG",
        "colab": {
          "base_uri": "https://localhost:8080/"
        },
        "outputId": "38b49218-40b4-42b5-8870-7df11f9e48ed"
      },
      "execution_count": 5,
      "outputs": [
        {
          "output_type": "stream",
          "name": "stdout",
          "text": [
            "dest                   ABQ\n",
            "num_flights            254\n",
            "num_carriers             1\n",
            "mean_arr_delay     4.38189\n",
            "std_arr_delay     41.98136\n",
            "Name: 0, dtype: object\n"
          ]
        }
      ]
    },
    {
      "cell_type": "markdown",
      "source": [
        "---\n",
        "# Problem: Planning travel schedule to avoid delays\n",
        "\n",
        "**For this problem, use `not_canceled` flights only.**\n",
        "\n",
        "Suppose we plan to travel from New York City to Los Angeles. We are interested in using the historical data in `nycflights13` to figure out a good travel plan.\n",
        "\n",
        "There are three airports in New York City (`JFK`, `LGA`, and `EWR`) and five airports in the Greater Los Angeles area (`LAX`, `LGB`, `SNA`, `BUR`, `ONT`). \n"
      ],
      "metadata": {
        "id": "MN28sf0O-ITE"
      }
    },
    {
      "cell_type": "markdown",
      "source": [
        "\n",
        "**Task-1**: How many flights departed from one of the three NYC airports and arrived at one of the five LA airports in 2013?\n",
        "\n",
        "How many flights were operated between each pair of NY origin airport and LA destination airport?\n",
        "\n",
        "Which origin and destination airport pair had the largest number of connecting flights?\n",
        "\n",
        "\n",
        "Expected answers: Total 17,869 flights between NYC airports and Los Angeles airports. The JFK-LAX route had the most flights (11,159)."
      ],
      "metadata": {
        "id": "LfIoxo-l5Wdg"
      }
    },
    {
      "cell_type": "code",
      "source": [
        "# ANSWER\n",
        "# Selecting flights from NYC to LA\n",
        "nyc_to_la = not_canceled[(not_canceled['origin'].isin(['JFK', 'LGA', 'EWR'])) & (not_canceled['dest'].isin(['LAX', 'LGB', 'SNA', 'BUR', 'ONT']))]\n",
        "\n",
        "# Counting number of flights from NYC to LA\n",
        "num_flights = nyc_to_la.shape[0]\n",
        "\n",
        "print(\"Number of flights from NYC to LA: \", num_flights)\n",
        "\n",
        "# Grouping by origin and destination airports\n",
        "grouped = nyc_to_la.groupby(['origin', 'dest'])\n",
        "\n",
        "# Counting number of flights for each origin-destination pair\n",
        "flight_count = grouped.size()\n",
        "\n",
        "print(\"Number of flights between each pair of NY origin airport and LA destination airport:\")\n",
        "print(flight_count)\n",
        "\n",
        "# origin and destination airport pair with the largest number of connecting flights\n",
        "max_flights = flight_count.max()\n",
        "max_pair = flight_count[flight_count == max_flights].index[0]\n",
        "print(\"Origin-destination airport pair with the largest number of connecting flights: \", max_pair)\n",
        "print(\"Number of flights: \", max_flights)"
      ],
      "metadata": {
        "id": "xMnrfLI_tSao",
        "colab": {
          "base_uri": "https://localhost:8080/"
        },
        "outputId": "b9f5aafb-34a4-4ec9-a011-e93253587227"
      },
      "execution_count": 6,
      "outputs": [
        {
          "output_type": "stream",
          "name": "stdout",
          "text": [
            "Number of flights from NYC to LA:  17869\n",
            "Number of flights between each pair of NY origin airport and LA destination airport:\n",
            "origin  dest\n",
            "EWR     LAX      4867\n",
            "        SNA       812\n",
            "JFK     BUR       370\n",
            "        LAX     11159\n",
            "        LGB       661\n",
            "dtype: int64\n",
            "Origin-destination airport pair with the largest number of connecting flights:  ('JFK', 'LAX')\n",
            "Number of flights:  11159\n"
          ]
        }
      ]
    },
    {
      "cell_type": "markdown",
      "source": [
        "---\n",
        "**Task-2** How many airline carriers had flights that departed from one of the three NYC airports and arrived at one of the five LA airports in 2013?\n",
        "\n",
        "Which carrier had the largest number of connecting flights between NYC airports and LA airports?\n",
        "\n",
        "Expected answer: UA had the largest number (6582) of connecting flights between NYC airports and LA airports.\n"
      ],
      "metadata": {
        "id": "6TXBUL34X9da"
      }
    },
    {
      "cell_type": "code",
      "source": [
        "# ANSWER\n",
        "# Filtering the data to include only flights between NYC and LA\n",
        "nyc_to_la = not_canceled[(not_canceled['origin'].str.contains('EWR|JFK|LGA')) & (not_canceled['dest'].str.contains('LAX|BUR|ONT|SNA|LGB'))]\n",
        "\n",
        "# Counting the number of unique airline carriers operating flights between NYC and LA\n",
        "num_carriers = len(nyc_to_la['carrier'].unique())\n",
        "\n",
        "print(f\"The number of airline carriers that had flights departing from one of the three NYC airports and arriving at one of the five LA airports in 2013 is: {num_carriers}\")\n",
        "\n",
        "# Grouping the data by airline carrier and count the number of connecting flights\n",
        "carrier_counts = nyc_to_la.groupby('carrier').size()\n",
        "\n",
        "# Finding the carrier with the largest number of connecting flights\n",
        "max_carrier = carrier_counts.idxmax()\n",
        "\n",
        "print(f\"The airline carrier with the largest number of connecting flights between NYC airports and LA airports is {max_carrier} with {carrier_counts[max_carrier]} connecting flights.\")\n"
      ],
      "metadata": {
        "id": "_IvWwDLitSeN",
        "colab": {
          "base_uri": "https://localhost:8080/"
        },
        "outputId": "5adc54f7-3600-42fc-8b35-c4269e7e7d2c"
      },
      "execution_count": 7,
      "outputs": [
        {
          "output_type": "stream",
          "name": "stdout",
          "text": [
            "The number of airline carriers that had flights departing from one of the three NYC airports and arriving at one of the five LA airports in 2013 is: 5\n",
            "The airline carrier with the largest number of connecting flights between NYC airports and LA airports is UA with 6582 connecting flights.\n"
          ]
        }
      ]
    },
    {
      "cell_type": "markdown",
      "source": [
        "---\n",
        "**Task-3** Make a summary DataFrame, where each row is an airline carrier that operated on this route, and the columns are the number of non-canceled flights per carrier, the average departure delays per carrier, and the average arrival delays per carrier.\n",
        "\n",
        "Which carrier had the smallest average arrival delays?\n",
        "\n",
        "Expected results: The resulting DataFrame is of shape 5 x 4 . The carrier DL had the smallest average arrival delay of -3.845195."
      ],
      "metadata": {
        "id": "USfZz6YzYhai"
      }
    },
    {
      "cell_type": "code",
      "source": [
        "# filtering the data for the specific origin-destination pair and carrier with smallest average arrival delays\n",
        "df_filtered = not_canceled[(not_canceled['origin'] == 'JFK') & (not_canceled['dest'] == 'LAX') & (not_canceled['carrier'] == 'DL') & (not_canceled['arr_delay'].notnull())]\n",
        "\n",
        "# Grouping by carrier and compute the number of non-cancelled flights, average departure delay, and average arrival delay\n",
        "summary_df = df_filtered.groupby('carrier').agg(avg_dep_delay=('dep_delay', 'mean'),\n",
        "    avg_arr_delay=('arr_delay', 'mean')).reset_index()\n",
        "\n",
        "# The carrier with the smallest average arrival delay\n",
        "smallest_avg_arr_delay = summary_df['avg_arr_delay'].min()\n",
        "best_carrier = summary_df.loc[summary_df['avg_arr_delay'] == smallest_avg_arr_delay, 'carrier'].values[0]\n",
        "\n",
        "# print the carrier with the smallest average arrival delay\n",
        "print(summary_df)\n",
        "print(f\"\\nThe carrier with the smallest average arrival delay is {best_carrier}\")\n"
      ],
      "metadata": {
        "id": "C2oUKYrQtShd",
        "colab": {
          "base_uri": "https://localhost:8080/"
        },
        "outputId": "1fcfa0e2-e0f7-4972-962d-b56f9105f4bf"
      },
      "execution_count": 8,
      "outputs": [
        {
          "output_type": "stream",
          "name": "stdout",
          "text": [
            "  carrier  avg_dep_delay  avg_arr_delay\n",
            "0      DL       5.685565      -3.845195\n",
            "\n",
            "The carrier with the smallest average arrival delay is DL\n"
          ]
        }
      ]
    },
    {
      "cell_type": "markdown",
      "source": [
        "---\n",
        "**Task-4** Suppose we have decided to take the carrier that had the smallest average arrival delays as identified in task-3.\n",
        "Which origin NYC airport and destination LA airport pair had the largest number of flights operated by this carrier?\n",
        "\n",
        "\n",
        "Expected answer: JFK-LAX, 2487 flights."
      ],
      "metadata": {
        "id": "Gy19v3xIYiuI"
      }
    },
    {
      "cell_type": "code",
      "source": [
        "# Filtering the data for the specific origin-destination pair & carrier with smallest average arrival delays\n",
        "df_filtered = not_canceled[(not_canceled['origin'] == 'JFK') & (not_canceled['dest'] == 'LAX')\n",
        " & (not_canceled['carrier'] == best_carrier) & (not_canceled['arr_delay'].notnull())]\n",
        "\n",
        "# group by origin & destination airports & count the number of flights\n",
        "grouped_df = df_filtered.groupby(['origin', 'dest']).size().reset_index(name='num_flights')\n",
        "\n",
        "#the origin-destination pair with the largest number of flights\n",
        "largest_num_flights = grouped_df['num_flights'].max()\n",
        "largest_num_flights_pair = grouped_df.loc[grouped_df['num_flights'] == largest_num_flights, ['origin', 'dest']].values[0]\n",
        "\n",
        "# printing the result\n",
        "print(f\"The origin-destination pair with the largest number of flights operated by the carrier with the smallest average arrival delay is {largest_num_flights_pair[0]}-{largest_num_flights_pair[1]}, {largest_num_flights} flights.\")\n"
      ],
      "metadata": {
        "id": "h0MDEja4tTFv",
        "colab": {
          "base_uri": "https://localhost:8080/"
        },
        "outputId": "4407e065-8cb9-4f92-a415-fc75a1977134"
      },
      "execution_count": 9,
      "outputs": [
        {
          "output_type": "stream",
          "name": "stdout",
          "text": [
            "The origin-destination pair with the largest number of flights operated by the carrier with the smallest average arrival delay is JFK-LAX, 2487 flights.\n"
          ]
        }
      ]
    },
    {
      "cell_type": "markdown",
      "source": [
        "---\n",
        "**Task-5**: Suppose now we have decided to take the carrier that had the smallest average arrival delays as identified by task-3, and take the route (origin and destination airport pair) as identified in part task-4. What time of day should you fly out of NYC, if you want to avoid delays as much as possible? \n",
        "\n",
        "To answer this question, make a summary table, where each row is one departure hour (as in the `hour` variable), and the columns are the hour, the number of non-canceled flights per hour, the average departure delays per hour, and the average arrival delays per hour. Here we are restricted to the carrier selected in part task-3 and the route identified in task-4.\n",
        "\n",
        "Expected results: The resutling DataFrame is of shape 14 x 4. The first row is `7   321         0.495327        -7.442368`."
      ],
      "metadata": {
        "id": "cHWQDwcLYlrA"
      }
    },
    {
      "cell_type": "code",
      "source": [
        "#ANSWER\n",
        "# Filter the flights DataFrame to only include flights operated by the carrier with the smallest average arrival delays and on the route with the largest number of flights operated by that carrier\n",
        "carrier = 'DL'\n",
        "origin = 'JFK'\n",
        "dest = 'LAX'\n",
        "flights_filtered = not_canceled[(not_canceled['carrier']==carrier) & (not_canceled['origin']==origin) & (not_canceled['dest']==dest)]\n",
        "\n",
        "# Grouping the filtered DataFrame by the departure hour, & calculate number of non-canceled flights, average departure delays, & average arrival delays per hour\n",
        "flights_grouped = flights_filtered.groupby('hour').agg({'hour':'first', 'flight':'size', 'dep_delay':'mean', 'arr_delay':'mean'}).reset_index(drop=True)\n",
        "\n",
        "# summary table\n",
        "flights_grouped\n"
      ],
      "metadata": {
        "id": "QKK8PswWtTJw",
        "colab": {
          "base_uri": "https://localhost:8080/",
          "height": 488
        },
        "outputId": "3c4131cf-833c-4804-8c31-5633c68eadd2"
      },
      "execution_count": 10,
      "outputs": [
        {
          "output_type": "execute_result",
          "data": {
            "text/plain": [
              "    hour  flight  dep_delay  arr_delay\n",
              "0      7     321   0.495327  -7.442368\n",
              "1      8      10  -1.800000  -9.100000\n",
              "2      9     351  -0.225071  -8.917379\n",
              "3     11       1  -5.000000 -23.000000\n",
              "4     12     347   0.956772  -6.896254\n",
              "5     13       2  -3.500000  38.500000\n",
              "6     14      89   6.865169  -8.674157\n",
              "7     15     271   8.435424  -0.594096\n",
              "8     16     129   3.124031  -2.612403\n",
              "9     17     259   7.505792  -1.138996\n",
              "10    18     245   9.612245   2.036735\n",
              "11    19     148   3.466216  -7.020270\n",
              "12    20      56  15.678571   1.428571\n",
              "13    21     258  18.480620   1.593023"
            ],
            "text/html": [
              "\n",
              "  <div id=\"df-96eea46a-9cdb-4d2d-83db-078a356d7f8c\">\n",
              "    <div class=\"colab-df-container\">\n",
              "      <div>\n",
              "<style scoped>\n",
              "    .dataframe tbody tr th:only-of-type {\n",
              "        vertical-align: middle;\n",
              "    }\n",
              "\n",
              "    .dataframe tbody tr th {\n",
              "        vertical-align: top;\n",
              "    }\n",
              "\n",
              "    .dataframe thead th {\n",
              "        text-align: right;\n",
              "    }\n",
              "</style>\n",
              "<table border=\"1\" class=\"dataframe\">\n",
              "  <thead>\n",
              "    <tr style=\"text-align: right;\">\n",
              "      <th></th>\n",
              "      <th>hour</th>\n",
              "      <th>flight</th>\n",
              "      <th>dep_delay</th>\n",
              "      <th>arr_delay</th>\n",
              "    </tr>\n",
              "  </thead>\n",
              "  <tbody>\n",
              "    <tr>\n",
              "      <th>0</th>\n",
              "      <td>7</td>\n",
              "      <td>321</td>\n",
              "      <td>0.495327</td>\n",
              "      <td>-7.442368</td>\n",
              "    </tr>\n",
              "    <tr>\n",
              "      <th>1</th>\n",
              "      <td>8</td>\n",
              "      <td>10</td>\n",
              "      <td>-1.800000</td>\n",
              "      <td>-9.100000</td>\n",
              "    </tr>\n",
              "    <tr>\n",
              "      <th>2</th>\n",
              "      <td>9</td>\n",
              "      <td>351</td>\n",
              "      <td>-0.225071</td>\n",
              "      <td>-8.917379</td>\n",
              "    </tr>\n",
              "    <tr>\n",
              "      <th>3</th>\n",
              "      <td>11</td>\n",
              "      <td>1</td>\n",
              "      <td>-5.000000</td>\n",
              "      <td>-23.000000</td>\n",
              "    </tr>\n",
              "    <tr>\n",
              "      <th>4</th>\n",
              "      <td>12</td>\n",
              "      <td>347</td>\n",
              "      <td>0.956772</td>\n",
              "      <td>-6.896254</td>\n",
              "    </tr>\n",
              "    <tr>\n",
              "      <th>5</th>\n",
              "      <td>13</td>\n",
              "      <td>2</td>\n",
              "      <td>-3.500000</td>\n",
              "      <td>38.500000</td>\n",
              "    </tr>\n",
              "    <tr>\n",
              "      <th>6</th>\n",
              "      <td>14</td>\n",
              "      <td>89</td>\n",
              "      <td>6.865169</td>\n",
              "      <td>-8.674157</td>\n",
              "    </tr>\n",
              "    <tr>\n",
              "      <th>7</th>\n",
              "      <td>15</td>\n",
              "      <td>271</td>\n",
              "      <td>8.435424</td>\n",
              "      <td>-0.594096</td>\n",
              "    </tr>\n",
              "    <tr>\n",
              "      <th>8</th>\n",
              "      <td>16</td>\n",
              "      <td>129</td>\n",
              "      <td>3.124031</td>\n",
              "      <td>-2.612403</td>\n",
              "    </tr>\n",
              "    <tr>\n",
              "      <th>9</th>\n",
              "      <td>17</td>\n",
              "      <td>259</td>\n",
              "      <td>7.505792</td>\n",
              "      <td>-1.138996</td>\n",
              "    </tr>\n",
              "    <tr>\n",
              "      <th>10</th>\n",
              "      <td>18</td>\n",
              "      <td>245</td>\n",
              "      <td>9.612245</td>\n",
              "      <td>2.036735</td>\n",
              "    </tr>\n",
              "    <tr>\n",
              "      <th>11</th>\n",
              "      <td>19</td>\n",
              "      <td>148</td>\n",
              "      <td>3.466216</td>\n",
              "      <td>-7.020270</td>\n",
              "    </tr>\n",
              "    <tr>\n",
              "      <th>12</th>\n",
              "      <td>20</td>\n",
              "      <td>56</td>\n",
              "      <td>15.678571</td>\n",
              "      <td>1.428571</td>\n",
              "    </tr>\n",
              "    <tr>\n",
              "      <th>13</th>\n",
              "      <td>21</td>\n",
              "      <td>258</td>\n",
              "      <td>18.480620</td>\n",
              "      <td>1.593023</td>\n",
              "    </tr>\n",
              "  </tbody>\n",
              "</table>\n",
              "</div>\n",
              "      <button class=\"colab-df-convert\" onclick=\"convertToInteractive('df-96eea46a-9cdb-4d2d-83db-078a356d7f8c')\"\n",
              "              title=\"Convert this dataframe to an interactive table.\"\n",
              "              style=\"display:none;\">\n",
              "        \n",
              "  <svg xmlns=\"http://www.w3.org/2000/svg\" height=\"24px\"viewBox=\"0 0 24 24\"\n",
              "       width=\"24px\">\n",
              "    <path d=\"M0 0h24v24H0V0z\" fill=\"none\"/>\n",
              "    <path d=\"M18.56 5.44l.94 2.06.94-2.06 2.06-.94-2.06-.94-.94-2.06-.94 2.06-2.06.94zm-11 1L8.5 8.5l.94-2.06 2.06-.94-2.06-.94L8.5 2.5l-.94 2.06-2.06.94zm10 10l.94 2.06.94-2.06 2.06-.94-2.06-.94-.94-2.06-.94 2.06-2.06.94z\"/><path d=\"M17.41 7.96l-1.37-1.37c-.4-.4-.92-.59-1.43-.59-.52 0-1.04.2-1.43.59L10.3 9.45l-7.72 7.72c-.78.78-.78 2.05 0 2.83L4 21.41c.39.39.9.59 1.41.59.51 0 1.02-.2 1.41-.59l7.78-7.78 2.81-2.81c.8-.78.8-2.07 0-2.86zM5.41 20L4 18.59l7.72-7.72 1.47 1.35L5.41 20z\"/>\n",
              "  </svg>\n",
              "      </button>\n",
              "      \n",
              "  <style>\n",
              "    .colab-df-container {\n",
              "      display:flex;\n",
              "      flex-wrap:wrap;\n",
              "      gap: 12px;\n",
              "    }\n",
              "\n",
              "    .colab-df-convert {\n",
              "      background-color: #E8F0FE;\n",
              "      border: none;\n",
              "      border-radius: 50%;\n",
              "      cursor: pointer;\n",
              "      display: none;\n",
              "      fill: #1967D2;\n",
              "      height: 32px;\n",
              "      padding: 0 0 0 0;\n",
              "      width: 32px;\n",
              "    }\n",
              "\n",
              "    .colab-df-convert:hover {\n",
              "      background-color: #E2EBFA;\n",
              "      box-shadow: 0px 1px 2px rgba(60, 64, 67, 0.3), 0px 1px 3px 1px rgba(60, 64, 67, 0.15);\n",
              "      fill: #174EA6;\n",
              "    }\n",
              "\n",
              "    [theme=dark] .colab-df-convert {\n",
              "      background-color: #3B4455;\n",
              "      fill: #D2E3FC;\n",
              "    }\n",
              "\n",
              "    [theme=dark] .colab-df-convert:hover {\n",
              "      background-color: #434B5C;\n",
              "      box-shadow: 0px 1px 3px 1px rgba(0, 0, 0, 0.15);\n",
              "      filter: drop-shadow(0px 1px 2px rgba(0, 0, 0, 0.3));\n",
              "      fill: #FFFFFF;\n",
              "    }\n",
              "  </style>\n",
              "\n",
              "      <script>\n",
              "        const buttonEl =\n",
              "          document.querySelector('#df-96eea46a-9cdb-4d2d-83db-078a356d7f8c button.colab-df-convert');\n",
              "        buttonEl.style.display =\n",
              "          google.colab.kernel.accessAllowed ? 'block' : 'none';\n",
              "\n",
              "        async function convertToInteractive(key) {\n",
              "          const element = document.querySelector('#df-96eea46a-9cdb-4d2d-83db-078a356d7f8c');\n",
              "          const dataTable =\n",
              "            await google.colab.kernel.invokeFunction('convertToInteractive',\n",
              "                                                     [key], {});\n",
              "          if (!dataTable) return;\n",
              "\n",
              "          const docLinkHtml = 'Like what you see? Visit the ' +\n",
              "            '<a target=\"_blank\" href=https://colab.research.google.com/notebooks/data_table.ipynb>data table notebook</a>'\n",
              "            + ' to learn more about interactive tables.';\n",
              "          element.innerHTML = '';\n",
              "          dataTable['output_type'] = 'display_data';\n",
              "          await google.colab.output.renderOutput(dataTable, element);\n",
              "          const docLink = document.createElement('div');\n",
              "          docLink.innerHTML = docLinkHtml;\n",
              "          element.appendChild(docLink);\n",
              "        }\n",
              "      </script>\n",
              "    </div>\n",
              "  </div>\n",
              "  "
            ]
          },
          "metadata": {},
          "execution_count": 10
        }
      ]
    },
    {
      "cell_type": "markdown",
      "source": [
        "---\n",
        "**Task-6** Use `matplotlib` or `pandas` plotting function to draw a dodged bar plot to display the average departure and arrivale delay per hour, as calculated in task-5."
      ],
      "metadata": {
        "id": "vOzRYaSFg6jp"
      }
    },
    {
      "cell_type": "code",
      "source": [
        "#ANSWER\n",
        "import matplotlib.pyplot as plt\n",
        "\n",
        "# creating a new DataFrame with the average departure and arrival delay per hour\n",
        "df_delay = not_canceled[not_canceled['carrier'] == 'DL'].groupby('hour')[['dep_delay', 'arr_delay']].mean()\n",
        "\n",
        "# creating a bar plot with the average departure delay per hour\n",
        "plt.bar(df_delay.index, df_delay['dep_delay'], width=0.4, label='Departure Delay')\n",
        "\n",
        "# creating a second bar plot with the average arrival delay per hour\n",
        "plt.bar(df_delay.index +0.4, df_delay['arr_delay'], width=0.4, label='Arrival Delay')\n",
        "\n",
        "# Labeling axis \n",
        "plt.xlabel('Hour of Day')\n",
        "plt.ylabel('Average Delay (minutes)')\n",
        "plt.legend()\n",
        "\n",
        "# showing the plot\n",
        "plt.show()\n"
      ],
      "metadata": {
        "id": "WJo3QsoatTNC",
        "colab": {
          "base_uri": "https://localhost:8080/",
          "height": 449
        },
        "outputId": "5f2bf783-1856-4cab-b3d4-44b921998020"
      },
      "execution_count": 11,
      "outputs": [
        {
          "output_type": "display_data",
          "data": {
            "text/plain": [
              "<Figure size 640x480 with 1 Axes>"
            ],
            "image/png": "[encoded data removed]"
          },
          "metadata": {}
        }
      ]
    }
  ]
}