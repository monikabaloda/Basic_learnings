{
  "cells": [
    {
      "cell_type": "markdown",
      "metadata": {
        "id": "sCjTrua7RQaY"
      },
      "source": [
        "---\n",
        "# List Slicing\n",
        "\n",
        "Elements of a list can be accessed using the `[]` method, element position is indicated using 0-based indexing, and ranges of values can be specified using a slice `[start:stop:step]`.\n",
        "\n",
        "- `start` index is included, default `0`\n",
        "- `end` index is not included, default `len(list)`\n",
        "- `step` is optional, default `1`\n",
        "\n",
        "The slicing operations return a new list containing the requested elements."
      ]
    },
    {
      "cell_type": "code",
      "execution_count": 1,
      "metadata": {
        "id": "lkjsOvsmReoR"
      },
      "outputs": [],
      "source": [
        "d = [0, 1, 2, 3, 4, 5, 6, 7, 8, 9]"
      ]
    },
    {
      "cell_type": "code",
      "execution_count": 2,
      "metadata": {
        "id": "dcUDv2BxRgPA",
        "outputId": "89374490-788a-4992-864a-86a08da871a7",
        "colab": {
          "base_uri": "https://localhost:8080/"
        }
      },
      "outputs": [
        {
          "output_type": "execute_result",
          "data": {
            "text/plain": [
              "[1, 3, 5, 7, 9]"
            ]
          },
          "metadata": {},
          "execution_count": 2
        }
      ],
      "source": [
        "# Select only the odd values in this list\n",
        "d[1:len(d):2]"
      ]
    },
    {
      "cell_type": "code",
      "execution_count": 3,
      "metadata": {
        "id": "XSok4qeaRh2X",
        "outputId": "b6802006-0694-4551-b38d-b97118922940",
        "colab": {
          "base_uri": "https://localhost:8080/"
        }
      },
      "outputs": [
        {
          "output_type": "execute_result",
          "data": {
            "text/plain": [
              "[1, 4, 7]"
            ]
          },
          "metadata": {},
          "execution_count": 3
        }
      ],
      "source": [
        "# Select every 3rd value starting from the 2nd element.\n",
        "d[1::3]"
      ]
    },
    {
      "cell_type": "code",
      "execution_count": 4,
      "metadata": {
        "id": "5spZytfVRkRQ",
        "outputId": "df87c862-de39-4edd-e9d8-4aadf3c00745",
        "colab": {
          "base_uri": "https://localhost:8080/"
        }
      },
      "outputs": [
        {
          "output_type": "execute_result",
          "data": {
            "text/plain": [
              "[8, 6, 4, 2, 0]"
            ]
          },
          "metadata": {},
          "execution_count": 4
        }
      ],
      "source": [
        "# Select every other value, in reverse order, starting from the 9th element.\n",
        "d[-2::-2]"
      ]
    },
    {
      "cell_type": "code",
      "execution_count": 5,
      "metadata": {
        "id": "_0hrRnm5RltH",
        "outputId": "4def3805-cd40-46b8-dd86-572a2cb6b3aa",
        "colab": {
          "base_uri": "https://localhost:8080/"
        }
      },
      "outputs": [
        {
          "output_type": "execute_result",
          "data": {
            "text/plain": [
              "[2, 4, 9]"
            ]
          },
          "metadata": {},
          "execution_count": 5
        }
      ],
      "source": [
        "# Select the 3rd element, the 5th element, and the 10th element\n",
        "d[2:5:2]  + [ d[-1] ]"
      ]
    },
    {
      "cell_type": "markdown",
      "metadata": {
        "id": "4MZomblzQ5hx"
      },
      "source": [
        "---\n",
        "### &diams; Exercise\n",
        "Using slicing to answer the following questions:\n"
      ]
    },
    {
      "cell_type": "markdown",
      "source": [
        "**Task-1**  Select only the even values in the list d.\n",
        " The expected output is [0, 2, 4, 6, 8]"
      ],
      "metadata": {
        "id": "kyjh5-plHfL4"
      }
    },
    {
      "cell_type": "code",
      "execution_count": 6,
      "metadata": {
        "id": "OooSF4fWSi_W",
        "outputId": "ff5cdc8d-3837-4cb8-bb82-12e77f779175",
        "colab": {
          "base_uri": "https://localhost:8080/"
        }
      },
      "outputs": [
        {
          "output_type": "execute_result",
          "data": {
            "text/plain": [
              "[0, 2, 4, 6, 8]"
            ]
          },
          "metadata": {},
          "execution_count": 6
        }
      ],
      "source": [
        "d[0:len(d):2]    "
      ]
    },
    {
      "cell_type": "markdown",
      "source": [
        "**Task-2** Select all the odd values, in the reverse order.\n",
        " The expected output is [9, 7, 5, 3, 1]"
      ],
      "metadata": {
        "id": "CpNU4oCcHmhD"
      }
    },
    {
      "cell_type": "code",
      "execution_count": 7,
      "metadata": {
        "id": "Ivsdlsr8TYm9",
        "outputId": "20d047ce-30b1-463a-e268-c052a0c04a7e",
        "colab": {
          "base_uri": "https://localhost:8080/"
        }
      },
      "outputs": [
        {
          "output_type": "execute_result",
          "data": {
            "text/plain": [
              "[9, 7, 5, 3, 1]"
            ]
          },
          "metadata": {},
          "execution_count": 7
        }
      ],
      "source": [
        "d[-1::-2]"
      ]
    },
    {
      "cell_type": "markdown",
      "source": [
        "**Task-3** Reverse the list d. The expected output is [9, 8, 7, 6, 5, 4, 3, 2, 1, 0]"
      ],
      "metadata": {
        "id": "41cIWloVH2Zc"
      }
    },
    {
      "cell_type": "code",
      "execution_count": 8,
      "metadata": {
        "id": "71J_b_ynTBju",
        "outputId": "758720d5-2431-4602-987c-665c3014eb32",
        "colab": {
          "base_uri": "https://localhost:8080/"
        }
      },
      "outputs": [
        {
          "output_type": "execute_result",
          "data": {
            "text/plain": [
              "[9, 8, 7, 6, 5, 4, 3, 2, 1, 0]"
            ]
          },
          "metadata": {},
          "execution_count": 8
        }
      ],
      "source": [
        "d[-1::-1]"
      ]
    },
    {
      "cell_type": "markdown",
      "metadata": {
        "id": "YLkWv91WUE2c"
      },
      "source": [
        "---\n",
        "# List Comprehension\n",
        "\n",
        "Python's list comprehensions let you create lists in a convenient and concise way that is reminiscent of set notation.\n",
        "\n",
        "Syntax is generally\n",
        "```python3\n",
        "S = [<elt> <for statement> <conditional>]\n",
        "```"
      ]
    },
    {
      "cell_type": "code",
      "execution_count": 9,
      "metadata": {
        "id": "tZ6raG-mUEjd",
        "outputId": "fd21cc25-ec7d-478e-eeb1-a27036d3d776",
        "colab": {
          "base_uri": "https://localhost:8080/"
        }
      },
      "outputs": [
        {
          "output_type": "stream",
          "name": "stdout",
          "text": [
            "[0, 1, 2, 3, 4, 5, 6, 7, 8, 9, 10, 11, 12, 13, 14, 15, 16, 17, 18, 19, 20, 21, 22, 23, 24, 25, 26, 27, 28, 29, 30, 31, 32, 33, 34, 35, 36, 37, 38, 39, 40, 41, 42, 43, 44, 45, 46, 47, 48, 49, 50, 51, 52, 53, 54, 55, 56, 57, 58, 59, 60, 61, 62, 63, 64, 65, 66, 67, 68, 69, 70, 71, 72, 73, 74, 75, 76, 77, 78, 79, 80, 81, 82, 83, 84, 85, 86, 87, 88, 89, 90, 91, 92, 93, 94, 95, 96, 97, 98, 99]\n"
          ]
        }
      ],
      "source": [
        "X = [i for i in range(100)]\n",
        "print(X)"
      ]
    },
    {
      "cell_type": "code",
      "execution_count": 10,
      "metadata": {
        "id": "8zxOI6AMWmQR",
        "outputId": "e6d8dc4a-79b6-475e-f396-0d599b49d72f",
        "colab": {
          "base_uri": "https://localhost:8080/"
        }
      },
      "outputs": [
        {
          "output_type": "stream",
          "name": "stdout",
          "text": [
            "[2, 7, 12, 17, 22, 27, 32, 37, 42, 47, 52, 57, 62, 67, 72, 77, 82, 87, 92, 97]\n"
          ]
        }
      ],
      "source": [
        "# 𝑆1 = {𝑥∈𝑋 ∣ 𝑥 mod 5 = 2}\n",
        "S1 = [x for x in X if x % 5 == 2] \n",
        "print(S1)"
      ]
    },
    {
      "cell_type": "code",
      "execution_count": 11,
      "metadata": {
        "id": "BZ3JBsNkWxhy",
        "outputId": "32593c63-8da8-43ee-cc1a-0c5b45259f09",
        "colab": {
          "base_uri": "https://localhost:8080/"
        }
      },
      "outputs": [
        {
          "output_type": "stream",
          "name": "stdout",
          "text": [
            "[2, 12, 22, 32, 42, 52, 62, 72, 82, 92]\n"
          ]
        }
      ],
      "source": [
        "# 𝑆2 = {𝑥∈𝑆1 ∣ 𝑥 is even} \n",
        "S2 = [x for x in S1 if x % 2 == 0]\n",
        "print(S2)"
      ]
    },
    {
      "cell_type": "code",
      "execution_count": 12,
      "metadata": {
        "id": "HTgMmTpqW_TY",
        "outputId": "5e6973a3-88eb-40a2-d6c5-050ddabcb77c",
        "colab": {
          "base_uri": "https://localhost:8080/"
        }
      },
      "outputs": [
        {
          "output_type": "stream",
          "name": "stdout",
          "text": [
            "[(2, 2), (2, 12), (2, 22), (2, 32), (2, 42), (2, 52), (2, 62), (2, 72), (2, 82), (2, 92), (7, 2), (7, 12), (7, 22), (7, 32), (7, 42), (7, 52), (7, 62), (7, 72), (7, 82), (7, 92), (12, 2), (12, 12), (12, 22), (12, 32), (12, 42), (12, 52), (12, 62), (12, 72), (12, 82), (12, 92), (17, 2), (17, 12), (17, 22), (17, 32), (17, 42), (17, 52), (17, 62), (17, 72), (17, 82), (17, 92), (22, 2), (22, 12), (22, 22), (22, 32), (22, 42), (22, 52), (22, 62), (22, 72), (22, 82), (22, 92), (27, 2), (27, 12), (27, 22), (27, 32), (27, 42), (27, 52), (27, 62), (27, 72), (27, 82), (27, 92), (32, 2), (32, 12), (32, 22), (32, 32), (32, 42), (32, 52), (32, 62), (32, 72), (32, 82), (32, 92), (37, 2), (37, 12), (37, 22), (37, 32), (37, 42), (37, 52), (37, 62), (37, 72), (37, 82), (37, 92), (42, 2), (42, 12), (42, 22), (42, 32), (42, 42), (42, 52), (42, 62), (42, 72), (42, 82), (42, 92), (47, 2), (47, 12), (47, 22), (47, 32), (47, 42), (47, 52), (47, 62), (47, 72), (47, 82), (47, 92), (52, 2), (52, 12), (52, 22), (52, 32), (52, 42), (52, 52), (52, 62), (52, 72), (52, 82), (52, 92), (57, 2), (57, 12), (57, 22), (57, 32), (57, 42), (57, 52), (57, 62), (57, 72), (57, 82), (57, 92), (62, 2), (62, 12), (62, 22), (62, 32), (62, 42), (62, 52), (62, 62), (62, 72), (62, 82), (62, 92), (67, 2), (67, 12), (67, 22), (67, 32), (67, 42), (67, 52), (67, 62), (67, 72), (67, 82), (67, 92), (72, 2), (72, 12), (72, 22), (72, 32), (72, 42), (72, 52), (72, 62), (72, 72), (72, 82), (72, 92), (77, 2), (77, 12), (77, 22), (77, 32), (77, 42), (77, 52), (77, 62), (77, 72), (77, 82), (77, 92), (82, 2), (82, 12), (82, 22), (82, 32), (82, 42), (82, 52), (82, 62), (82, 72), (82, 82), (82, 92), (87, 2), (87, 12), (87, 22), (87, 32), (87, 42), (87, 52), (87, 62), (87, 72), (87, 82), (87, 92), (92, 2), (92, 12), (92, 22), (92, 32), (92, 42), (92, 52), (92, 62), (92, 72), (92, 82), (92, 92), (97, 2), (97, 12), (97, 22), (97, 32), (97, 42), (97, 52), (97, 62), (97, 72), (97, 82), (97, 92)]\n"
          ]
        }
      ],
      "source": [
        "# res = a list of all tuples (𝑥,𝑦) where 𝑥∈𝑆1, 𝑦∈𝑆2\n",
        "res = [(x, y) for x in S1 for y in S2]\n",
        "print(res)"
      ]
    },
    {
      "cell_type": "markdown",
      "metadata": {
        "id": "4SCYD--7XUcQ"
      },
      "source": [
        "---\n",
        "### &diams; Exercise\n",
        "Use list comprehension to answer the following questions:"
      ]
    },
    {
      "cell_type": "markdown",
      "source": [
        "**Task-1** Choose a set S3 such that if we divide any of its element X by 3 then it should give us a reminder equal to 1. \n",
        "\n",
        "That is:  𝑆3 = {𝑥∈𝑋 ∣ 𝑥 mod 3 = 1}\n",
        "\n",
        "The expected output is [1, 4, 7, ..., 91, 94, 97] with total 33 elements"
      ],
      "metadata": {
        "id": "yhLWZYDbJN73"
      }
    },
    {
      "cell_type": "code",
      "execution_count": 13,
      "metadata": {
        "id": "EFideVNCXZOg",
        "outputId": "d99337c2-0370-4e4b-e341-bef6adcb6c0d",
        "colab": {
          "base_uri": "https://localhost:8080/"
        }
      },
      "outputs": [
        {
          "output_type": "stream",
          "name": "stdout",
          "text": [
            "[1, 4, 7, 10, 13, 16, 19, 22, 25, 28, 31, 34, 37, 40, 43, 46, 49, 52, 55, 58, 61, 64, 67, 70, 73, 76, 79, 82, 85, 88, 91, 94, 97]\n"
          ]
        },
        {
          "output_type": "execute_result",
          "data": {
            "text/plain": [
              "33"
            ]
          },
          "metadata": {},
          "execution_count": 13
        }
      ],
      "source": [
        "\n",
        "# ANSWER\n",
        "S3=[i for i in X if i % 3==1]\n",
        "print(S3)\n",
        "len(S3)"
      ]
    },
    {
      "cell_type": "markdown",
      "source": [
        "**Task-2**: Choose X if it is odd. "
      ],
      "metadata": {
        "id": "0198YMZLKReL"
      }
    },
    {
      "cell_type": "code",
      "execution_count": 14,
      "metadata": {
        "id": "dRqLer5oX0qf",
        "outputId": "d8a55dd4-b6f2-43cd-9f6e-6907700e88d8",
        "colab": {
          "base_uri": "https://localhost:8080/"
        }
      },
      "outputs": [
        {
          "output_type": "stream",
          "name": "stdout",
          "text": [
            "[1, 7, 13, 19, 25, 31, 37, 43, 49, 55, 61, 67, 73, 79, 85, 91, 97]\n"
          ]
        },
        {
          "output_type": "execute_result",
          "data": {
            "text/plain": [
              "17"
            ]
          },
          "metadata": {},
          "execution_count": 14
        }
      ],
      "source": [
        "S4=[i for i in S3 if i%2==1]\n",
        "print(S4)\n",
        "len(S4)"
      ]
    },
    {
      "cell_type": "markdown",
      "source": [
        "**Task-3**:  Create a list of all tuples (x, y, x+y) where 𝑥∈𝑆3, 𝑦∈𝑆4, and x is even.\n",
        "\n",
        "The expected output is [(4, 1, 5), (4, 7, 11), ..., (94, 91, 185), (94, 97, 191)] with total 16*17=272 tuples\n"
      ],
      "metadata": {
        "id": "kAUbPHVYKZZF"
      }
    },
    {
      "cell_type": "code",
      "execution_count": 15,
      "metadata": {
        "id": "U2_Ra0ifYx0G",
        "scrolled": false,
        "outputId": "db20a2a8-76f8-4d67-964a-987456873d23",
        "colab": {
          "base_uri": "https://localhost:8080/"
        }
      },
      "outputs": [
        {
          "output_type": "stream",
          "name": "stdout",
          "text": [
            "[(4, 1, 5), (4, 7, 11), (4, 13, 17), (4, 19, 23), (4, 25, 29), (4, 31, 35), (4, 37, 41), (4, 43, 47), (4, 49, 53), (4, 55, 59), (4, 61, 65), (4, 67, 71), (4, 73, 77), (4, 79, 83), (4, 85, 89), (4, 91, 95), (4, 97, 101), (10, 1, 11), (10, 7, 17), (10, 13, 23), (10, 19, 29), (10, 25, 35), (10, 31, 41), (10, 37, 47), (10, 43, 53), (10, 49, 59), (10, 55, 65), (10, 61, 71), (10, 67, 77), (10, 73, 83), (10, 79, 89), (10, 85, 95), (10, 91, 101), (10, 97, 107), (16, 1, 17), (16, 7, 23), (16, 13, 29), (16, 19, 35), (16, 25, 41), (16, 31, 47), (16, 37, 53), (16, 43, 59), (16, 49, 65), (16, 55, 71), (16, 61, 77), (16, 67, 83), (16, 73, 89), (16, 79, 95), (16, 85, 101), (16, 91, 107), (16, 97, 113), (22, 1, 23), (22, 7, 29), (22, 13, 35), (22, 19, 41), (22, 25, 47), (22, 31, 53), (22, 37, 59), (22, 43, 65), (22, 49, 71), (22, 55, 77), (22, 61, 83), (22, 67, 89), (22, 73, 95), (22, 79, 101), (22, 85, 107), (22, 91, 113), (22, 97, 119), (28, 1, 29), (28, 7, 35), (28, 13, 41), (28, 19, 47), (28, 25, 53), (28, 31, 59), (28, 37, 65), (28, 43, 71), (28, 49, 77), (28, 55, 83), (28, 61, 89), (28, 67, 95), (28, 73, 101), (28, 79, 107), (28, 85, 113), (28, 91, 119), (28, 97, 125), (34, 1, 35), (34, 7, 41), (34, 13, 47), (34, 19, 53), (34, 25, 59), (34, 31, 65), (34, 37, 71), (34, 43, 77), (34, 49, 83), (34, 55, 89), (34, 61, 95), (34, 67, 101), (34, 73, 107), (34, 79, 113), (34, 85, 119), (34, 91, 125), (34, 97, 131), (40, 1, 41), (40, 7, 47), (40, 13, 53), (40, 19, 59), (40, 25, 65), (40, 31, 71), (40, 37, 77), (40, 43, 83), (40, 49, 89), (40, 55, 95), (40, 61, 101), (40, 67, 107), (40, 73, 113), (40, 79, 119), (40, 85, 125), (40, 91, 131), (40, 97, 137), (46, 1, 47), (46, 7, 53), (46, 13, 59), (46, 19, 65), (46, 25, 71), (46, 31, 77), (46, 37, 83), (46, 43, 89), (46, 49, 95), (46, 55, 101), (46, 61, 107), (46, 67, 113), (46, 73, 119), (46, 79, 125), (46, 85, 131), (46, 91, 137), (46, 97, 143), (52, 1, 53), (52, 7, 59), (52, 13, 65), (52, 19, 71), (52, 25, 77), (52, 31, 83), (52, 37, 89), (52, 43, 95), (52, 49, 101), (52, 55, 107), (52, 61, 113), (52, 67, 119), (52, 73, 125), (52, 79, 131), (52, 85, 137), (52, 91, 143), (52, 97, 149), (58, 1, 59), (58, 7, 65), (58, 13, 71), (58, 19, 77), (58, 25, 83), (58, 31, 89), (58, 37, 95), (58, 43, 101), (58, 49, 107), (58, 55, 113), (58, 61, 119), (58, 67, 125), (58, 73, 131), (58, 79, 137), (58, 85, 143), (58, 91, 149), (58, 97, 155), (64, 1, 65), (64, 7, 71), (64, 13, 77), (64, 19, 83), (64, 25, 89), (64, 31, 95), (64, 37, 101), (64, 43, 107), (64, 49, 113), (64, 55, 119), (64, 61, 125), (64, 67, 131), (64, 73, 137), (64, 79, 143), (64, 85, 149), (64, 91, 155), (64, 97, 161), (70, 1, 71), (70, 7, 77), (70, 13, 83), (70, 19, 89), (70, 25, 95), (70, 31, 101), (70, 37, 107), (70, 43, 113), (70, 49, 119), (70, 55, 125), (70, 61, 131), (70, 67, 137), (70, 73, 143), (70, 79, 149), (70, 85, 155), (70, 91, 161), (70, 97, 167), (76, 1, 77), (76, 7, 83), (76, 13, 89), (76, 19, 95), (76, 25, 101), (76, 31, 107), (76, 37, 113), (76, 43, 119), (76, 49, 125), (76, 55, 131), (76, 61, 137), (76, 67, 143), (76, 73, 149), (76, 79, 155), (76, 85, 161), (76, 91, 167), (76, 97, 173), (82, 1, 83), (82, 7, 89), (82, 13, 95), (82, 19, 101), (82, 25, 107), (82, 31, 113), (82, 37, 119), (82, 43, 125), (82, 49, 131), (82, 55, 137), (82, 61, 143), (82, 67, 149), (82, 73, 155), (82, 79, 161), (82, 85, 167), (82, 91, 173), (82, 97, 179), (88, 1, 89), (88, 7, 95), (88, 13, 101), (88, 19, 107), (88, 25, 113), (88, 31, 119), (88, 37, 125), (88, 43, 131), (88, 49, 137), (88, 55, 143), (88, 61, 149), (88, 67, 155), (88, 73, 161), (88, 79, 167), (88, 85, 173), (88, 91, 179), (88, 97, 185), (94, 1, 95), (94, 7, 101), (94, 13, 107), (94, 19, 113), (94, 25, 119), (94, 31, 125), (94, 37, 131), (94, 43, 137), (94, 49, 143), (94, 55, 149), (94, 61, 155), (94, 67, 161), (94, 73, 167), (94, 79, 173), (94, 85, 179), (94, 91, 185), (94, 97, 191)]\n"
          ]
        },
        {
          "output_type": "execute_result",
          "data": {
            "text/plain": [
              "272"
            ]
          },
          "metadata": {},
          "execution_count": 15
        }
      ],
      "source": [
        "S5 = [(x, y, x+y) for x in S3 if x%2==0 for y in S4]\n",
        "\n",
        "print(S5)\n",
        "len(S5)"
      ]
    }
  ],
  "metadata": {
    "colab": {
      "provenance": [],
      "toc_visible": true
    },
    "kernelspec": {
      "display_name": "Python 3 (ipykernel)",
      "language": "python",
      "name": "python3"
    },
    "language_info": {
      "codemirror_mode": {
        "name": "ipython",
        "version": 3
      },
      "file_extension": ".py",
      "mimetype": "text/x-python",
      "name": "python",
      "nbconvert_exporter": "python",
      "pygments_lexer": "ipython3",
      "version": "3.9.13"
    }
  },
  "nbformat": 4,
  "nbformat_minor": 0
}