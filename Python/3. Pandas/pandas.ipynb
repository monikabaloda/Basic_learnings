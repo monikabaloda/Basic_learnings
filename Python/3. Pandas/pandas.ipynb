{
  "nbformat": 4,
  "nbformat_minor": 0,
  "metadata": {
    "colab": {
      "provenance": [],
      "toc_visible": true
    },
    "kernelspec": {
      "name": "python3",
      "display_name": "Python 3"
    },
    "language_info": {
      "name": "python"
    }
  },
  "cells": [
    {
      "cell_type": "markdown",
      "source": [
        "# Pandas"
      ],
      "metadata": {
        "id": "4wcwsreC6Nt1"
      }
    },
    {
      "cell_type": "markdown",
      "metadata": {
        "id": "-hvfA9oiu70d"
      },
      "source": [
        "---\n",
        "# Pandas Objects and Basic Creation\n",
        "\n",
        "https://pandas.pydata.org/pandas-docs/stable/getting_started/index.html\n",
        "\n",
        "| Name | Dimensions | Description  |\n",
        "| ------:| -----------:|----------|\n",
        "| ```pd.Series``` | 1 | 1D labeled homogeneously-typed array |\n",
        "| ```pd.DataFrame```  | 2| General 2D labeled, size-mutable tabular structure |\n",
        "| ```pd.Panel``` | 3|  General 3D labeled, also size-mutable array |"
      ]
    },
    {
      "cell_type": "code",
      "source": [
        "import numpy as np\n",
        "import pandas as pd"
      ],
      "metadata": {
        "id": "YfKE6wfKktAR"
      },
      "execution_count": 1,
      "outputs": []
    },
    {
      "cell_type": "markdown",
      "source": [
        "---\n",
        "# Pandas DataFrame\n",
        "\n",
        "DataFrame is a 2-dimensional labeled data structure with columns of potentially different types. We can think of it like a R dataframe/tibble, or a SQL table, or a dict of Series objects. It is generally the most commonly used pandas object."
      ],
      "metadata": {
        "id": "sCjTrua7RQaY"
      }
    },
    {
      "cell_type": "markdown",
      "source": [
        "---\n",
        "## DataFrame Creation\n",
        "\n",
        "- We can create a DataFrame from:\n",
        "    - Dict of 1D ndarrays, lists, dicts, or Series\n",
        "    - 2D numpy array\n",
        "    - A list of dictionaries\n",
        "    - A Series\n",
        "    - Another Dataframe\n",
        "``` python\n",
        "df = pd.DataFrame(data, index = index, columns = columns)\n",
        "```\n",
        "- ```index``` / ``` columns ``` is a list of the row/column labels. If we pass an index and/or columns, we are guarenteeing the index and/or column of the df. \n",
        "- If we do not pass anything in, the input will be constructed by \"common sense\" rules."
      ],
      "metadata": {
        "id": "N9TDGWJFCLvk"
      }
    },
    {
      "cell_type": "code",
      "source": [
        "# Create a dictionary of series\n",
        "d = {'one': pd.Series([1,2,3], index  = ['a', 'b', 'c']), \n",
        "     'two': pd.Series(list(range(4)), index = ['a','b', 'c', 'd'])}\n",
        "# Columns are dictionary keys, indices and values obtained from series\n",
        "df = pd.DataFrame(d)\n",
        "# Notice how it fills the column one with NaN for d\n",
        "print(df)"
      ],
      "metadata": {
        "id": "Qo7yXfkYCWnk",
        "colab": {
          "base_uri": "https://localhost:8080/"
        },
        "outputId": "6a02403f-ce9f-409a-a164-4504f8ebf167"
      },
      "execution_count": 2,
      "outputs": [
        {
          "output_type": "stream",
          "name": "stdout",
          "text": [
            "   one  two\n",
            "a  1.0    0\n",
            "b  2.0    1\n",
            "c  3.0    2\n",
            "d  NaN    3\n"
          ]
        }
      ]
    },
    {
      "cell_type": "code",
      "source": [
        "# Create a dictionary of lists\n",
        "d = {'one' : [1., 2., 3., 4], 'two' : [4., 3., 2., 1.], 'three' : [3., 2., 4., 1.]}\n",
        "df = pd.DataFrame(d)\n",
        "print(df)"
      ],
      "metadata": {
        "id": "7qQtxFG2CcTc",
        "colab": {
          "base_uri": "https://localhost:8080/"
        },
        "outputId": "dcd298b7-bcf6-4a7e-aa81-e40aabd6444e"
      },
      "execution_count": 3,
      "outputs": [
        {
          "output_type": "stream",
          "name": "stdout",
          "text": [
            "   one  two  three\n",
            "0  1.0  4.0    3.0\n",
            "1  2.0  3.0    2.0\n",
            "2  3.0  2.0    4.0\n",
            "3  4.0  1.0    1.0\n"
          ]
        }
      ]
    },
    {
      "cell_type": "code",
      "source": [
        "# Adding indices\n",
        "df = pd.DataFrame(d, index = ['a', 'b', 'c', 'd'])\n",
        "print(df)"
      ],
      "metadata": {
        "id": "Qar3bs9qEGFE",
        "colab": {
          "base_uri": "https://localhost:8080/"
        },
        "outputId": "8aa97a82-7c6d-4f40-cea6-238e26abe77d"
      },
      "execution_count": 4,
      "outputs": [
        {
          "output_type": "stream",
          "name": "stdout",
          "text": [
            "   one  two  three\n",
            "a  1.0  4.0    3.0\n",
            "b  2.0  3.0    2.0\n",
            "c  3.0  2.0    4.0\n",
            "d  4.0  1.0    1.0\n"
          ]
        }
      ]
    },
    {
      "cell_type": "code",
      "source": [
        "# Only certain columns\n",
        "df = pd.DataFrame(d, columns = ['one', 'three'])\n",
        "\n",
        "end_string = '\\n' + '-'*50 + '\\n'\n",
        "print(df.shape, end = end_string)\n",
        "\n",
        "print(df)"
      ],
      "metadata": {
        "id": "3_ZCu1bZC2Zc",
        "colab": {
          "base_uri": "https://localhost:8080/"
        },
        "outputId": "20722a70-615f-48d0-cad1-b52effcd4a3b"
      },
      "execution_count": 5,
      "outputs": [
        {
          "output_type": "stream",
          "name": "stdout",
          "text": [
            "(4, 2)\n",
            "--------------------------------------------------\n",
            "   one  three\n",
            "0  1.0    3.0\n",
            "1  2.0    2.0\n",
            "2  3.0    4.0\n",
            "3  4.0    1.0\n"
          ]
        }
      ]
    },
    {
      "cell_type": "markdown",
      "source": [
        "---\n",
        "## Modifying DataFrame : Introduction to concept"
      ],
      "metadata": {
        "id": "xsmBAV26Ddvc"
      }
    },
    {
      "cell_type": "code",
      "source": [
        "# multiply \n",
        "df['one*three'] =  df['one'] * df['three']\n",
        "print(df)"
      ],
      "metadata": {
        "id": "ZZGrMoSmDRyG",
        "colab": {
          "base_uri": "https://localhost:8080/"
        },
        "outputId": "c407064b-cf3d-47d3-9654-18adbcbb14b1"
      },
      "execution_count": 6,
      "outputs": [
        {
          "output_type": "stream",
          "name": "stdout",
          "text": [
            "   one  three  one*three\n",
            "0  1.0    3.0        3.0\n",
            "1  2.0    2.0        4.0\n",
            "2  3.0    4.0       12.0\n",
            "3  4.0    1.0        4.0\n"
          ]
        }
      ]
    },
    {
      "cell_type": "code",
      "source": [
        "# inserting column in specified location, with values\n",
        "df.insert(1, 'bar', df['one'][2:])\n",
        "print(df)"
      ],
      "metadata": {
        "id": "5BFTI3KVDhDc",
        "colab": {
          "base_uri": "https://localhost:8080/"
        },
        "outputId": "97717576-fb8c-406e-a85a-e3cba089b4b5"
      },
      "execution_count": 7,
      "outputs": [
        {
          "output_type": "stream",
          "name": "stdout",
          "text": [
            "   one  bar  three  one*three\n",
            "0  1.0  NaN    3.0        3.0\n",
            "1  2.0  NaN    2.0        4.0\n",
            "2  3.0  3.0    4.0       12.0\n",
            "3  4.0  4.0    1.0        4.0\n"
          ]
        }
      ]
    },
    {
      "cell_type": "code",
      "source": [
        "# Deleting Columns  \n",
        "three = df.pop('three')\n",
        "print(df)"
      ],
      "metadata": {
        "id": "BCvtE__LDkLs",
        "colab": {
          "base_uri": "https://localhost:8080/"
        },
        "outputId": "cf519a08-157e-47de-c691-f7ac6c64ba42"
      },
      "execution_count": 8,
      "outputs": [
        {
          "output_type": "stream",
          "name": "stdout",
          "text": [
            "   one  bar  one*three\n",
            "0  1.0  NaN        3.0\n",
            "1  2.0  NaN        4.0\n",
            "2  3.0  3.0       12.0\n",
            "3  4.0  4.0        4.0\n"
          ]
        }
      ]
    },
    {
      "cell_type": "markdown",
      "source": [
        "---\n",
        "## Modifying DataFrame : Exercise\n",
        "\n",
        "Given the following DataFrame `data`, we make the following modifications:\n",
        "\n",
        "- Switch the labels of columns 'B' and 'C'\n",
        "- Create a new column 'A*D', which equals the product of 'A' and 'D'\n",
        "- Delete columns 'A' and 'D'\n",
        "- Create a boolean column 'flag', which indicates whether column 'B' > column 'A*D'\n",
        "- Delete rows where 'flag' is False\n",
        "- Delete the 'flag' column\n",
        "\n",
        "The resulting DataFrame is,\n",
        "```\n",
        "                   C         B       A*D\n",
        "2000-01-02  0.877420  0.503913 -0.276999\n",
        "2000-01-03 -0.321768 -0.057829 -1.193274\n",
        "2000-01-04 -0.721817 -0.814920 -1.181251\n",
        "2000-01-05  1.799571 -0.166019 -1.039480\n",
        "```\n"
      ],
      "metadata": {
        "id": "TgMjEcHdFKCU"
      }
    },
    {
      "cell_type": "code",
      "source": [
        "pd.options.display.max_rows = 10\n",
        "dates = pd.date_range('1/1/2000', periods=8)\n",
        "np.random.seed(206)\n",
        "data = pd.DataFrame(np.random.randn(8, 4), index=dates, columns=['A', 'B', 'C','D'])\n",
        "data"
      ],
      "metadata": {
        "id": "YXWsdPi4FkHF",
        "colab": {
          "base_uri": "https://localhost:8080/",
          "height": 300
        },
        "outputId": "a3f86db7-d259-40ef-bc85-742d5806e6af"
      },
      "execution_count": 9,
      "outputs": [
        {
          "output_type": "execute_result",
          "data": {
            "text/plain": [
              "                   A         B         C         D\n",
              "2000-01-01 -0.562224 -2.704382  0.100133 -0.556712\n",
              "2000-01-02  0.282239  0.877420  0.503913 -0.981433\n",
              "2000-01-03 -1.634617 -0.321768 -0.057829  0.730002\n",
              "2000-01-04 -1.132797 -0.721817 -0.814920  1.042774\n",
              "2000-01-05  0.612227  1.799571 -0.166019 -1.697868\n",
              "2000-01-06 -0.595997  1.913933 -0.877715 -1.030056\n",
              "2000-01-07 -1.582156 -0.277063  0.255720 -2.215322\n",
              "2000-01-08 -1.006581  0.560446 -1.501818  0.628199"
            ],
            "text/html": [
              "\n",
              "  <div id=\"df-1400bc98-894f-4740-973f-1d22fd46ccc9\">\n",
              "    <div class=\"colab-df-container\">\n",
              "      <div>\n",
              "<style scoped>\n",
              "    .dataframe tbody tr th:only-of-type {\n",
              "        vertical-align: middle;\n",
              "    }\n",
              "\n",
              "    .dataframe tbody tr th {\n",
              "        vertical-align: top;\n",
              "    }\n",
              "\n",
              "    .dataframe thead th {\n",
              "        text-align: right;\n",
              "    }\n",
              "</style>\n",
              "<table border=\"1\" class=\"dataframe\">\n",
              "  <thead>\n",
              "    <tr style=\"text-align: right;\">\n",
              "      <th></th>\n",
              "      <th>A</th>\n",
              "      <th>B</th>\n",
              "      <th>C</th>\n",
              "      <th>D</th>\n",
              "    </tr>\n",
              "  </thead>\n",
              "  <tbody>\n",
              "    <tr>\n",
              "      <th>2000-01-01</th>\n",
              "      <td>-0.562224</td>\n",
              "      <td>-2.704382</td>\n",
              "      <td>0.100133</td>\n",
              "      <td>-0.556712</td>\n",
              "    </tr>\n",
              "    <tr>\n",
              "      <th>2000-01-02</th>\n",
              "      <td>0.282239</td>\n",
              "      <td>0.877420</td>\n",
              "      <td>0.503913</td>\n",
              "      <td>-0.981433</td>\n",
              "    </tr>\n",
              "    <tr>\n",
              "      <th>2000-01-03</th>\n",
              "      <td>-1.634617</td>\n",
              "      <td>-0.321768</td>\n",
              "      <td>-0.057829</td>\n",
              "      <td>0.730002</td>\n",
              "    </tr>\n",
              "    <tr>\n",
              "      <th>2000-01-04</th>\n",
              "      <td>-1.132797</td>\n",
              "      <td>-0.721817</td>\n",
              "      <td>-0.814920</td>\n",
              "      <td>1.042774</td>\n",
              "    </tr>\n",
              "    <tr>\n",
              "      <th>2000-01-05</th>\n",
              "      <td>0.612227</td>\n",
              "      <td>1.799571</td>\n",
              "      <td>-0.166019</td>\n",
              "      <td>-1.697868</td>\n",
              "    </tr>\n",
              "    <tr>\n",
              "      <th>2000-01-06</th>\n",
              "      <td>-0.595997</td>\n",
              "      <td>1.913933</td>\n",
              "      <td>-0.877715</td>\n",
              "      <td>-1.030056</td>\n",
              "    </tr>\n",
              "    <tr>\n",
              "      <th>2000-01-07</th>\n",
              "      <td>-1.582156</td>\n",
              "      <td>-0.277063</td>\n",
              "      <td>0.255720</td>\n",
              "      <td>-2.215322</td>\n",
              "    </tr>\n",
              "    <tr>\n",
              "      <th>2000-01-08</th>\n",
              "      <td>-1.006581</td>\n",
              "      <td>0.560446</td>\n",
              "      <td>-1.501818</td>\n",
              "      <td>0.628199</td>\n",
              "    </tr>\n",
              "  </tbody>\n",
              "</table>\n",
              "</div>\n",
              "      <button class=\"colab-df-convert\" onclick=\"convertToInteractive('df-1400bc98-894f-4740-973f-1d22fd46ccc9')\"\n",
              "              title=\"Convert this dataframe to an interactive table.\"\n",
              "              style=\"display:none;\">\n",
              "        \n",
              "  <svg xmlns=\"http://www.w3.org/2000/svg\" height=\"24px\"viewBox=\"0 0 24 24\"\n",
              "       width=\"24px\">\n",
              "    <path d=\"M0 0h24v24H0V0z\" fill=\"none\"/>\n",
              "    <path d=\"M18.56 5.44l.94 2.06.94-2.06 2.06-.94-2.06-.94-.94-2.06-.94 2.06-2.06.94zm-11 1L8.5 8.5l.94-2.06 2.06-.94-2.06-.94L8.5 2.5l-.94 2.06-2.06.94zm10 10l.94 2.06.94-2.06 2.06-.94-2.06-.94-.94-2.06-.94 2.06-2.06.94z\"/><path d=\"M17.41 7.96l-1.37-1.37c-.4-.4-.92-.59-1.43-.59-.52 0-1.04.2-1.43.59L10.3 9.45l-7.72 7.72c-.78.78-.78 2.05 0 2.83L4 21.41c.39.39.9.59 1.41.59.51 0 1.02-.2 1.41-.59l7.78-7.78 2.81-2.81c.8-.78.8-2.07 0-2.86zM5.41 20L4 18.59l7.72-7.72 1.47 1.35L5.41 20z\"/>\n",
              "  </svg>\n",
              "      </button>\n",
              "      \n",
              "  <style>\n",
              "    .colab-df-container {\n",
              "      display:flex;\n",
              "      flex-wrap:wrap;\n",
              "      gap: 12px;\n",
              "    }\n",
              "\n",
              "    .colab-df-convert {\n",
              "      background-color: #E8F0FE;\n",
              "      border: none;\n",
              "      border-radius: 50%;\n",
              "      cursor: pointer;\n",
              "      display: none;\n",
              "      fill: #1967D2;\n",
              "      height: 32px;\n",
              "      padding: 0 0 0 0;\n",
              "      width: 32px;\n",
              "    }\n",
              "\n",
              "    .colab-df-convert:hover {\n",
              "      background-color: #E2EBFA;\n",
              "      box-shadow: 0px 1px 2px rgba(60, 64, 67, 0.3), 0px 1px 3px 1px rgba(60, 64, 67, 0.15);\n",
              "      fill: #174EA6;\n",
              "    }\n",
              "\n",
              "    [theme=dark] .colab-df-convert {\n",
              "      background-color: #3B4455;\n",
              "      fill: #D2E3FC;\n",
              "    }\n",
              "\n",
              "    [theme=dark] .colab-df-convert:hover {\n",
              "      background-color: #434B5C;\n",
              "      box-shadow: 0px 1px 3px 1px rgba(0, 0, 0, 0.15);\n",
              "      filter: drop-shadow(0px 1px 2px rgba(0, 0, 0, 0.3));\n",
              "      fill: #FFFFFF;\n",
              "    }\n",
              "  </style>\n",
              "\n",
              "      <script>\n",
              "        const buttonEl =\n",
              "          document.querySelector('#df-1400bc98-894f-4740-973f-1d22fd46ccc9 button.colab-df-convert');\n",
              "        buttonEl.style.display =\n",
              "          google.colab.kernel.accessAllowed ? 'block' : 'none';\n",
              "\n",
              "        async function convertToInteractive(key) {\n",
              "          const element = document.querySelector('#df-1400bc98-894f-4740-973f-1d22fd46ccc9');\n",
              "          const dataTable =\n",
              "            await google.colab.kernel.invokeFunction('convertToInteractive',\n",
              "                                                     [key], {});\n",
              "          if (!dataTable) return;\n",
              "\n",
              "          const docLinkHtml = 'Like what you see? Visit the ' +\n",
              "            '<a target=\"_blank\" href=https://colab.research.google.com/notebooks/data_table.ipynb>data table notebook</a>'\n",
              "            + ' to learn more about interactive tables.';\n",
              "          element.innerHTML = '';\n",
              "          dataTable['output_type'] = 'display_data';\n",
              "          await google.colab.output.renderOutput(dataTable, element);\n",
              "          const docLink = document.createElement('div');\n",
              "          docLink.innerHTML = docLinkHtml;\n",
              "          element.appendChild(docLink);\n",
              "        }\n",
              "      </script>\n",
              "    </div>\n",
              "  </div>\n",
              "  "
            ]
          },
          "metadata": {},
          "execution_count": 9
        }
      ]
    },
    {
      "cell_type": "code",
      "source": [
        "# Switch the labels of columns 'B' and 'C'\n",
        "data.columns = ['A', 'C', 'B', 'D']\n",
        "\n",
        "# Creating a new column 'A*D', which equals the product of 'A' and 'D'\n",
        "data['A*D'] = data['A'] * data['D']\n",
        "\n",
        "# Delete columns 'A' and 'D'\n",
        "data = data.drop(['A', 'D'], axis=1)\n",
        "\n",
        "# Creating a boolean column 'flag', which indicates whether column 'B'> column 'A*D'\n",
        "data['flag'] = data['B'] > data['A*D']\n",
        "\n",
        "# Delete rows where 'flag' is False\n",
        "data = data.drop(data[data['flag']==False].index)\n",
        "\n",
        "#Delete flag column\n",
        "data = data.drop('flag', axis=1)\n",
        "print(data)"
      ],
      "metadata": {
        "id": "SIrjwrqbGWBf",
        "colab": {
          "base_uri": "https://localhost:8080/"
        },
        "outputId": "995a7363-cb20-416c-bffb-8a0b3208b788"
      },
      "execution_count": 10,
      "outputs": [
        {
          "output_type": "stream",
          "name": "stdout",
          "text": [
            "                   C         B       A*D\n",
            "2000-01-02  0.877420  0.503913 -0.276999\n",
            "2000-01-03 -0.321768 -0.057829 -1.193274\n",
            "2000-01-04 -0.721817 -0.814920 -1.181251\n",
            "2000-01-05  1.799571 -0.166019 -1.039480\n"
          ]
        }
      ]
    },
    {
      "cell_type": "markdown",
      "source": [
        "---\n",
        "## Indexing and Selection : Concept\n",
        "\n",
        "https://pandas.pydata.org/docs/user_guide/indexing.html\n",
        "\n",
        "| Operation  | Syntax       | Result | \n",
        "|----|----------------------| ---------------------------|\n",
        "| Select Column | df[col]   |    Series                      |\n",
        "| Select Row by Label | df.loc[label] | Series  |\n",
        "| Select Row by Integer Location | df.iloc[idx] |      Series                    |\n",
        "| Slice rows | df[5:10]        |                        DataFrame  | \n",
        "| Select rows by boolean | df[mask]   | DataFrame        |"
      ],
      "metadata": {
        "id": "mhgU1hC2Drcc"
      }
    },
    {
      "cell_type": "code",
      "source": [
        "dates = pd.date_range('1/1/2000', periods=8)\n",
        "np.random.seed(206)\n",
        "data = pd.DataFrame(np.random.randn(8, 4), index=dates, columns=['A', 'B', 'C','D'])\n",
        "data"
      ],
      "metadata": {
        "id": "sDAoamyKJzsm",
        "colab": {
          "base_uri": "https://localhost:8080/",
          "height": 300
        },
        "outputId": "53f78b10-4510-4882-8895-fc4ac3dbbb73"
      },
      "execution_count": 11,
      "outputs": [
        {
          "output_type": "execute_result",
          "data": {
            "text/plain": [
              "                   A         B         C         D\n",
              "2000-01-01 -0.562224 -2.704382  0.100133 -0.556712\n",
              "2000-01-02  0.282239  0.877420  0.503913 -0.981433\n",
              "2000-01-03 -1.634617 -0.321768 -0.057829  0.730002\n",
              "2000-01-04 -1.132797 -0.721817 -0.814920  1.042774\n",
              "2000-01-05  0.612227  1.799571 -0.166019 -1.697868\n",
              "2000-01-06 -0.595997  1.913933 -0.877715 -1.030056\n",
              "2000-01-07 -1.582156 -0.277063  0.255720 -2.215322\n",
              "2000-01-08 -1.006581  0.560446 -1.501818  0.628199"
            ],
            "text/html": [
              "\n",
              "  <div id=\"df-9b43cbdc-ebe8-4ef4-b837-e9a1a043240d\">\n",
              "    <div class=\"colab-df-container\">\n",
              "      <div>\n",
              "<style scoped>\n",
              "    .dataframe tbody tr th:only-of-type {\n",
              "        vertical-align: middle;\n",
              "    }\n",
              "\n",
              "    .dataframe tbody tr th {\n",
              "        vertical-align: top;\n",
              "    }\n",
              "\n",
              "    .dataframe thead th {\n",
              "        text-align: right;\n",
              "    }\n",
              "</style>\n",
              "<table border=\"1\" class=\"dataframe\">\n",
              "  <thead>\n",
              "    <tr style=\"text-align: right;\">\n",
              "      <th></th>\n",
              "      <th>A</th>\n",
              "      <th>B</th>\n",
              "      <th>C</th>\n",
              "      <th>D</th>\n",
              "    </tr>\n",
              "  </thead>\n",
              "  <tbody>\n",
              "    <tr>\n",
              "      <th>2000-01-01</th>\n",
              "      <td>-0.562224</td>\n",
              "      <td>-2.704382</td>\n",
              "      <td>0.100133</td>\n",
              "      <td>-0.556712</td>\n",
              "    </tr>\n",
              "    <tr>\n",
              "      <th>2000-01-02</th>\n",
              "      <td>0.282239</td>\n",
              "      <td>0.877420</td>\n",
              "      <td>0.503913</td>\n",
              "      <td>-0.981433</td>\n",
              "    </tr>\n",
              "    <tr>\n",
              "      <th>2000-01-03</th>\n",
              "      <td>-1.634617</td>\n",
              "      <td>-0.321768</td>\n",
              "      <td>-0.057829</td>\n",
              "      <td>0.730002</td>\n",
              "    </tr>\n",
              "    <tr>\n",
              "      <th>2000-01-04</th>\n",
              "      <td>-1.132797</td>\n",
              "      <td>-0.721817</td>\n",
              "      <td>-0.814920</td>\n",
              "      <td>1.042774</td>\n",
              "    </tr>\n",
              "    <tr>\n",
              "      <th>2000-01-05</th>\n",
              "      <td>0.612227</td>\n",
              "      <td>1.799571</td>\n",
              "      <td>-0.166019</td>\n",
              "      <td>-1.697868</td>\n",
              "    </tr>\n",
              "    <tr>\n",
              "      <th>2000-01-06</th>\n",
              "      <td>-0.595997</td>\n",
              "      <td>1.913933</td>\n",
              "      <td>-0.877715</td>\n",
              "      <td>-1.030056</td>\n",
              "    </tr>\n",
              "    <tr>\n",
              "      <th>2000-01-07</th>\n",
              "      <td>-1.582156</td>\n",
              "      <td>-0.277063</td>\n",
              "      <td>0.255720</td>\n",
              "      <td>-2.215322</td>\n",
              "    </tr>\n",
              "    <tr>\n",
              "      <th>2000-01-08</th>\n",
              "      <td>-1.006581</td>\n",
              "      <td>0.560446</td>\n",
              "      <td>-1.501818</td>\n",
              "      <td>0.628199</td>\n",
              "    </tr>\n",
              "  </tbody>\n",
              "</table>\n",
              "</div>\n",
              "      <button class=\"colab-df-convert\" onclick=\"convertToInteractive('df-9b43cbdc-ebe8-4ef4-b837-e9a1a043240d')\"\n",
              "              title=\"Convert this dataframe to an interactive table.\"\n",
              "              style=\"display:none;\">\n",
              "        \n",
              "  <svg xmlns=\"http://www.w3.org/2000/svg\" height=\"24px\"viewBox=\"0 0 24 24\"\n",
              "       width=\"24px\">\n",
              "    <path d=\"M0 0h24v24H0V0z\" fill=\"none\"/>\n",
              "    <path d=\"M18.56 5.44l.94 2.06.94-2.06 2.06-.94-2.06-.94-.94-2.06-.94 2.06-2.06.94zm-11 1L8.5 8.5l.94-2.06 2.06-.94-2.06-.94L8.5 2.5l-.94 2.06-2.06.94zm10 10l.94 2.06.94-2.06 2.06-.94-2.06-.94-.94-2.06-.94 2.06-2.06.94z\"/><path d=\"M17.41 7.96l-1.37-1.37c-.4-.4-.92-.59-1.43-.59-.52 0-1.04.2-1.43.59L10.3 9.45l-7.72 7.72c-.78.78-.78 2.05 0 2.83L4 21.41c.39.39.9.59 1.41.59.51 0 1.02-.2 1.41-.59l7.78-7.78 2.81-2.81c.8-.78.8-2.07 0-2.86zM5.41 20L4 18.59l7.72-7.72 1.47 1.35L5.41 20z\"/>\n",
              "  </svg>\n",
              "      </button>\n",
              "      \n",
              "  <style>\n",
              "    .colab-df-container {\n",
              "      display:flex;\n",
              "      flex-wrap:wrap;\n",
              "      gap: 12px;\n",
              "    }\n",
              "\n",
              "    .colab-df-convert {\n",
              "      background-color: #E8F0FE;\n",
              "      border: none;\n",
              "      border-radius: 50%;\n",
              "      cursor: pointer;\n",
              "      display: none;\n",
              "      fill: #1967D2;\n",
              "      height: 32px;\n",
              "      padding: 0 0 0 0;\n",
              "      width: 32px;\n",
              "    }\n",
              "\n",
              "    .colab-df-convert:hover {\n",
              "      background-color: #E2EBFA;\n",
              "      box-shadow: 0px 1px 2px rgba(60, 64, 67, 0.3), 0px 1px 3px 1px rgba(60, 64, 67, 0.15);\n",
              "      fill: #174EA6;\n",
              "    }\n",
              "\n",
              "    [theme=dark] .colab-df-convert {\n",
              "      background-color: #3B4455;\n",
              "      fill: #D2E3FC;\n",
              "    }\n",
              "\n",
              "    [theme=dark] .colab-df-convert:hover {\n",
              "      background-color: #434B5C;\n",
              "      box-shadow: 0px 1px 3px 1px rgba(0, 0, 0, 0.15);\n",
              "      filter: drop-shadow(0px 1px 2px rgba(0, 0, 0, 0.3));\n",
              "      fill: #FFFFFF;\n",
              "    }\n",
              "  </style>\n",
              "\n",
              "      <script>\n",
              "        const buttonEl =\n",
              "          document.querySelector('#df-9b43cbdc-ebe8-4ef4-b837-e9a1a043240d button.colab-df-convert');\n",
              "        buttonEl.style.display =\n",
              "          google.colab.kernel.accessAllowed ? 'block' : 'none';\n",
              "\n",
              "        async function convertToInteractive(key) {\n",
              "          const element = document.querySelector('#df-9b43cbdc-ebe8-4ef4-b837-e9a1a043240d');\n",
              "          const dataTable =\n",
              "            await google.colab.kernel.invokeFunction('convertToInteractive',\n",
              "                                                     [key], {});\n",
              "          if (!dataTable) return;\n",
              "\n",
              "          const docLinkHtml = 'Like what you see? Visit the ' +\n",
              "            '<a target=\"_blank\" href=https://colab.research.google.com/notebooks/data_table.ipynb>data table notebook</a>'\n",
              "            + ' to learn more about interactive tables.';\n",
              "          element.innerHTML = '';\n",
              "          dataTable['output_type'] = 'display_data';\n",
              "          await google.colab.output.renderOutput(dataTable, element);\n",
              "          const docLink = document.createElement('div');\n",
              "          docLink.innerHTML = docLinkHtml;\n",
              "          element.appendChild(docLink);\n",
              "        }\n",
              "      </script>\n",
              "    </div>\n",
              "  </div>\n",
              "  "
            ]
          },
          "metadata": {},
          "execution_count": 11
        }
      ]
    },
    {
      "cell_type": "code",
      "source": [
        "# Indexing/Slicing columns\n",
        "\n",
        "print(data[['A', 'B']], end = end_string)\n",
        "print(data.loc[:,['A', 'B']], end = end_string)\n",
        "print(data.loc[:,'A':'B'], end = end_string)\n",
        "print(data.iloc[:, [0, 1]], end = end_string)\n",
        "print(data.iloc[:, range(2)], end = end_string)"
      ],
      "metadata": {
        "id": "9N3lsGSUKO_V",
        "colab": {
          "base_uri": "https://localhost:8080/"
        },
        "outputId": "94745434-d8d8-4bbe-f5c4-f1264ec9ef3e"
      },
      "execution_count": 12,
      "outputs": [
        {
          "output_type": "stream",
          "name": "stdout",
          "text": [
            "                   A         B\n",
            "2000-01-01 -0.562224 -2.704382\n",
            "2000-01-02  0.282239  0.877420\n",
            "2000-01-03 -1.634617 -0.321768\n",
            "2000-01-04 -1.132797 -0.721817\n",
            "2000-01-05  0.612227  1.799571\n",
            "2000-01-06 -0.595997  1.913933\n",
            "2000-01-07 -1.582156 -0.277063\n",
            "2000-01-08 -1.006581  0.560446\n",
            "--------------------------------------------------\n",
            "                   A         B\n",
            "2000-01-01 -0.562224 -2.704382\n",
            "2000-01-02  0.282239  0.877420\n",
            "2000-01-03 -1.634617 -0.321768\n",
            "2000-01-04 -1.132797 -0.721817\n",
            "2000-01-05  0.612227  1.799571\n",
            "2000-01-06 -0.595997  1.913933\n",
            "2000-01-07 -1.582156 -0.277063\n",
            "2000-01-08 -1.006581  0.560446\n",
            "--------------------------------------------------\n",
            "                   A         B\n",
            "2000-01-01 -0.562224 -2.704382\n",
            "2000-01-02  0.282239  0.877420\n",
            "2000-01-03 -1.634617 -0.321768\n",
            "2000-01-04 -1.132797 -0.721817\n",
            "2000-01-05  0.612227  1.799571\n",
            "2000-01-06 -0.595997  1.913933\n",
            "2000-01-07 -1.582156 -0.277063\n",
            "2000-01-08 -1.006581  0.560446\n",
            "--------------------------------------------------\n",
            "                   A         B\n",
            "2000-01-01 -0.562224 -2.704382\n",
            "2000-01-02  0.282239  0.877420\n",
            "2000-01-03 -1.634617 -0.321768\n",
            "2000-01-04 -1.132797 -0.721817\n",
            "2000-01-05  0.612227  1.799571\n",
            "2000-01-06 -0.595997  1.913933\n",
            "2000-01-07 -1.582156 -0.277063\n",
            "2000-01-08 -1.006581  0.560446\n",
            "--------------------------------------------------\n",
            "                   A         B\n",
            "2000-01-01 -0.562224 -2.704382\n",
            "2000-01-02  0.282239  0.877420\n",
            "2000-01-03 -1.634617 -0.321768\n",
            "2000-01-04 -1.132797 -0.721817\n",
            "2000-01-05  0.612227  1.799571\n",
            "2000-01-06 -0.595997  1.913933\n",
            "2000-01-07 -1.582156 -0.277063\n",
            "2000-01-08 -1.006581  0.560446\n",
            "--------------------------------------------------\n"
          ]
        }
      ]
    },
    {
      "cell_type": "code",
      "source": [
        "# Indexing/Slicing rows\n",
        "\n",
        "print(data['2000-01-01': '2000-01-04'], end = end_string)\n",
        "print(data.loc['2000-01-01': '2000-01-04'], end = end_string)\n",
        "print(data.iloc[0:4], end = end_string)\n",
        "print(data.iloc[range(4)], end = end_string)\n",
        "print(data[data.index < '2000-01-05'], end = end_string)"
      ],
      "metadata": {
        "id": "f51ceqHHLg9e",
        "colab": {
          "base_uri": "https://localhost:8080/"
        },
        "outputId": "f3f9f37a-dd82-4f5f-dc19-815c4bb51141"
      },
      "execution_count": 13,
      "outputs": [
        {
          "output_type": "stream",
          "name": "stdout",
          "text": [
            "                   A         B         C         D\n",
            "2000-01-01 -0.562224 -2.704382  0.100133 -0.556712\n",
            "2000-01-02  0.282239  0.877420  0.503913 -0.981433\n",
            "2000-01-03 -1.634617 -0.321768 -0.057829  0.730002\n",
            "2000-01-04 -1.132797 -0.721817 -0.814920  1.042774\n",
            "--------------------------------------------------\n",
            "                   A         B         C         D\n",
            "2000-01-01 -0.562224 -2.704382  0.100133 -0.556712\n",
            "2000-01-02  0.282239  0.877420  0.503913 -0.981433\n",
            "2000-01-03 -1.634617 -0.321768 -0.057829  0.730002\n",
            "2000-01-04 -1.132797 -0.721817 -0.814920  1.042774\n",
            "--------------------------------------------------\n",
            "                   A         B         C         D\n",
            "2000-01-01 -0.562224 -2.704382  0.100133 -0.556712\n",
            "2000-01-02  0.282239  0.877420  0.503913 -0.981433\n",
            "2000-01-03 -1.634617 -0.321768 -0.057829  0.730002\n",
            "2000-01-04 -1.132797 -0.721817 -0.814920  1.042774\n",
            "--------------------------------------------------\n",
            "                   A         B         C         D\n",
            "2000-01-01 -0.562224 -2.704382  0.100133 -0.556712\n",
            "2000-01-02  0.282239  0.877420  0.503913 -0.981433\n",
            "2000-01-03 -1.634617 -0.321768 -0.057829  0.730002\n",
            "2000-01-04 -1.132797 -0.721817 -0.814920  1.042774\n",
            "--------------------------------------------------\n",
            "                   A         B         C         D\n",
            "2000-01-01 -0.562224 -2.704382  0.100133 -0.556712\n",
            "2000-01-02  0.282239  0.877420  0.503913 -0.981433\n",
            "2000-01-03 -1.634617 -0.321768 -0.057829  0.730002\n",
            "2000-01-04 -1.132797 -0.721817 -0.814920  1.042774\n",
            "--------------------------------------------------\n"
          ]
        }
      ]
    },
    {
      "cell_type": "markdown",
      "source": [
        "---\n",
        "## &diams; Indexing and Selection : Exercise\n",
        "\n",
        "Given the following DataFrame `data`,\n",
        "we provide 10 different ways to slice out the following sub-DataFrame.\n",
        "\n",
        "```\n",
        "                   C         D\n",
        "2000-01-07  0.255720 -2.215322\n",
        "2000-01-08 -1.501818  0.628199\n",
        "```\n"
      ],
      "metadata": {
        "id": "4SCYD--7XUcQ"
      }
    },
    {
      "cell_type": "code",
      "source": [
        "dates = pd.date_range('1/1/2000', periods=8)\n",
        "np.random.seed(206)\n",
        "data = pd.DataFrame(np.random.randn(8, 4), index=dates, columns=['A', 'B', 'C','D'])\n",
        "data"
      ],
      "metadata": {
        "id": "22Au30VcMl5Y",
        "colab": {
          "base_uri": "https://localhost:8080/",
          "height": 300
        },
        "outputId": "5ab6e8cb-ecac-4abb-a2f4-e27177b8e42b"
      },
      "execution_count": 14,
      "outputs": [
        {
          "output_type": "execute_result",
          "data": {
            "text/plain": [
              "                   A         B         C         D\n",
              "2000-01-01 -0.562224 -2.704382  0.100133 -0.556712\n",
              "2000-01-02  0.282239  0.877420  0.503913 -0.981433\n",
              "2000-01-03 -1.634617 -0.321768 -0.057829  0.730002\n",
              "2000-01-04 -1.132797 -0.721817 -0.814920  1.042774\n",
              "2000-01-05  0.612227  1.799571 -0.166019 -1.697868\n",
              "2000-01-06 -0.595997  1.913933 -0.877715 -1.030056\n",
              "2000-01-07 -1.582156 -0.277063  0.255720 -2.215322\n",
              "2000-01-08 -1.006581  0.560446 -1.501818  0.628199"
            ],
            "text/html": [
              "\n",
              "  <div id=\"df-5fab1cf2-062a-42d5-a7ce-bc037f5dedd2\">\n",
              "    <div class=\"colab-df-container\">\n",
              "      <div>\n",
              "<style scoped>\n",
              "    .dataframe tbody tr th:only-of-type {\n",
              "        vertical-align: middle;\n",
              "    }\n",
              "\n",
              "    .dataframe tbody tr th {\n",
              "        vertical-align: top;\n",
              "    }\n",
              "\n",
              "    .dataframe thead th {\n",
              "        text-align: right;\n",
              "    }\n",
              "</style>\n",
              "<table border=\"1\" class=\"dataframe\">\n",
              "  <thead>\n",
              "    <tr style=\"text-align: right;\">\n",
              "      <th></th>\n",
              "      <th>A</th>\n",
              "      <th>B</th>\n",
              "      <th>C</th>\n",
              "      <th>D</th>\n",
              "    </tr>\n",
              "  </thead>\n",
              "  <tbody>\n",
              "    <tr>\n",
              "      <th>2000-01-01</th>\n",
              "      <td>-0.562224</td>\n",
              "      <td>-2.704382</td>\n",
              "      <td>0.100133</td>\n",
              "      <td>-0.556712</td>\n",
              "    </tr>\n",
              "    <tr>\n",
              "      <th>2000-01-02</th>\n",
              "      <td>0.282239</td>\n",
              "      <td>0.877420</td>\n",
              "      <td>0.503913</td>\n",
              "      <td>-0.981433</td>\n",
              "    </tr>\n",
              "    <tr>\n",
              "      <th>2000-01-03</th>\n",
              "      <td>-1.634617</td>\n",
              "      <td>-0.321768</td>\n",
              "      <td>-0.057829</td>\n",
              "      <td>0.730002</td>\n",
              "    </tr>\n",
              "    <tr>\n",
              "      <th>2000-01-04</th>\n",
              "      <td>-1.132797</td>\n",
              "      <td>-0.721817</td>\n",
              "      <td>-0.814920</td>\n",
              "      <td>1.042774</td>\n",
              "    </tr>\n",
              "    <tr>\n",
              "      <th>2000-01-05</th>\n",
              "      <td>0.612227</td>\n",
              "      <td>1.799571</td>\n",
              "      <td>-0.166019</td>\n",
              "      <td>-1.697868</td>\n",
              "    </tr>\n",
              "    <tr>\n",
              "      <th>2000-01-06</th>\n",
              "      <td>-0.595997</td>\n",
              "      <td>1.913933</td>\n",
              "      <td>-0.877715</td>\n",
              "      <td>-1.030056</td>\n",
              "    </tr>\n",
              "    <tr>\n",
              "      <th>2000-01-07</th>\n",
              "      <td>-1.582156</td>\n",
              "      <td>-0.277063</td>\n",
              "      <td>0.255720</td>\n",
              "      <td>-2.215322</td>\n",
              "    </tr>\n",
              "    <tr>\n",
              "      <th>2000-01-08</th>\n",
              "      <td>-1.006581</td>\n",
              "      <td>0.560446</td>\n",
              "      <td>-1.501818</td>\n",
              "      <td>0.628199</td>\n",
              "    </tr>\n",
              "  </tbody>\n",
              "</table>\n",
              "</div>\n",
              "      <button class=\"colab-df-convert\" onclick=\"convertToInteractive('df-5fab1cf2-062a-42d5-a7ce-bc037f5dedd2')\"\n",
              "              title=\"Convert this dataframe to an interactive table.\"\n",
              "              style=\"display:none;\">\n",
              "        \n",
              "  <svg xmlns=\"http://www.w3.org/2000/svg\" height=\"24px\"viewBox=\"0 0 24 24\"\n",
              "       width=\"24px\">\n",
              "    <path d=\"M0 0h24v24H0V0z\" fill=\"none\"/>\n",
              "    <path d=\"M18.56 5.44l.94 2.06.94-2.06 2.06-.94-2.06-.94-.94-2.06-.94 2.06-2.06.94zm-11 1L8.5 8.5l.94-2.06 2.06-.94-2.06-.94L8.5 2.5l-.94 2.06-2.06.94zm10 10l.94 2.06.94-2.06 2.06-.94-2.06-.94-.94-2.06-.94 2.06-2.06.94z\"/><path d=\"M17.41 7.96l-1.37-1.37c-.4-.4-.92-.59-1.43-.59-.52 0-1.04.2-1.43.59L10.3 9.45l-7.72 7.72c-.78.78-.78 2.05 0 2.83L4 21.41c.39.39.9.59 1.41.59.51 0 1.02-.2 1.41-.59l7.78-7.78 2.81-2.81c.8-.78.8-2.07 0-2.86zM5.41 20L4 18.59l7.72-7.72 1.47 1.35L5.41 20z\"/>\n",
              "  </svg>\n",
              "      </button>\n",
              "      \n",
              "  <style>\n",
              "    .colab-df-container {\n",
              "      display:flex;\n",
              "      flex-wrap:wrap;\n",
              "      gap: 12px;\n",
              "    }\n",
              "\n",
              "    .colab-df-convert {\n",
              "      background-color: #E8F0FE;\n",
              "      border: none;\n",
              "      border-radius: 50%;\n",
              "      cursor: pointer;\n",
              "      display: none;\n",
              "      fill: #1967D2;\n",
              "      height: 32px;\n",
              "      padding: 0 0 0 0;\n",
              "      width: 32px;\n",
              "    }\n",
              "\n",
              "    .colab-df-convert:hover {\n",
              "      background-color: #E2EBFA;\n",
              "      box-shadow: 0px 1px 2px rgba(60, 64, 67, 0.3), 0px 1px 3px 1px rgba(60, 64, 67, 0.15);\n",
              "      fill: #174EA6;\n",
              "    }\n",
              "\n",
              "    [theme=dark] .colab-df-convert {\n",
              "      background-color: #3B4455;\n",
              "      fill: #D2E3FC;\n",
              "    }\n",
              "\n",
              "    [theme=dark] .colab-df-convert:hover {\n",
              "      background-color: #434B5C;\n",
              "      box-shadow: 0px 1px 3px 1px rgba(0, 0, 0, 0.15);\n",
              "      filter: drop-shadow(0px 1px 2px rgba(0, 0, 0, 0.3));\n",
              "      fill: #FFFFFF;\n",
              "    }\n",
              "  </style>\n",
              "\n",
              "      <script>\n",
              "        const buttonEl =\n",
              "          document.querySelector('#df-5fab1cf2-062a-42d5-a7ce-bc037f5dedd2 button.colab-df-convert');\n",
              "        buttonEl.style.display =\n",
              "          google.colab.kernel.accessAllowed ? 'block' : 'none';\n",
              "\n",
              "        async function convertToInteractive(key) {\n",
              "          const element = document.querySelector('#df-5fab1cf2-062a-42d5-a7ce-bc037f5dedd2');\n",
              "          const dataTable =\n",
              "            await google.colab.kernel.invokeFunction('convertToInteractive',\n",
              "                                                     [key], {});\n",
              "          if (!dataTable) return;\n",
              "\n",
              "          const docLinkHtml = 'Like what you see? Visit the ' +\n",
              "            '<a target=\"_blank\" href=https://colab.research.google.com/notebooks/data_table.ipynb>data table notebook</a>'\n",
              "            + ' to learn more about interactive tables.';\n",
              "          element.innerHTML = '';\n",
              "          dataTable['output_type'] = 'display_data';\n",
              "          await google.colab.output.renderOutput(dataTable, element);\n",
              "          const docLink = document.createElement('div');\n",
              "          docLink.innerHTML = docLinkHtml;\n",
              "          element.appendChild(docLink);\n",
              "        }\n",
              "      </script>\n",
              "    </div>\n",
              "  </div>\n",
              "  "
            ]
          },
          "metadata": {},
          "execution_count": 14
        }
      ]
    },
    {
      "cell_type": "code",
      "source": [
        "#ANSWER\n",
        "#method to extract specific rows and columns from a pandas DataFrame\n",
        "#data is a pandas DataFrame, .loc is a method that accesses a group of rows & columns by labels\n",
        "#code will be extracting all rows with index labels between '2000-01-07' & '2000-01-08'\n",
        "print(data.loc['2000-01-07':'2000-01-08', ['C', 'D']])\n",
        "print(data.loc[data.index[6:8], ['C', 'D']])\n",
        "print(data.iloc[[6,7], [2,3]])\n",
        "print(data.loc[data.index[[6,7]], ['C', 'D']])\n",
        "print(data[['C', 'D']].loc[data.index[6:8]])\n",
        "print(data.loc[:, ['C', 'D']].loc[data.index[6:8]])\n",
        "print(data.loc[data.index[6:8], :][['C', 'D']])\n",
        "print(data[['C', 'D']].iloc[6:8])\n",
        "print(data.iloc[6:8, [2,3]])\n",
        "print(data[['C', 'D']].iloc[-2:])"
      ],
      "metadata": {
        "colab": {
          "base_uri": "https://localhost:8080/"
        },
        "id": "M6ALxpBgCpeb",
        "outputId": "ec17ba89-ff57-4bab-e2e4-32756533ab5e"
      },
      "execution_count": 15,
      "outputs": [
        {
          "output_type": "stream",
          "name": "stdout",
          "text": [
            "                   C         D\n",
            "2000-01-07  0.255720 -2.215322\n",
            "2000-01-08 -1.501818  0.628199\n",
            "                   C         D\n",
            "2000-01-07  0.255720 -2.215322\n",
            "2000-01-08 -1.501818  0.628199\n",
            "                   C         D\n",
            "2000-01-07  0.255720 -2.215322\n",
            "2000-01-08 -1.501818  0.628199\n",
            "                   C         D\n",
            "2000-01-07  0.255720 -2.215322\n",
            "2000-01-08 -1.501818  0.628199\n",
            "                   C         D\n",
            "2000-01-07  0.255720 -2.215322\n",
            "2000-01-08 -1.501818  0.628199\n",
            "                   C         D\n",
            "2000-01-07  0.255720 -2.215322\n",
            "2000-01-08 -1.501818  0.628199\n",
            "                   C         D\n",
            "2000-01-07  0.255720 -2.215322\n",
            "2000-01-08 -1.501818  0.628199\n",
            "                   C         D\n",
            "2000-01-07  0.255720 -2.215322\n",
            "2000-01-08 -1.501818  0.628199\n",
            "                   C         D\n",
            "2000-01-07  0.255720 -2.215322\n",
            "2000-01-08 -1.501818  0.628199\n",
            "                   C         D\n",
            "2000-01-07  0.255720 -2.215322\n",
            "2000-01-08 -1.501818  0.628199\n"
          ]
        }
      ]
    }
  ]
}